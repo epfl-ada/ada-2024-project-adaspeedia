{
 "cells": [
  {
   "cell_type": "markdown",
   "id": "279a5c4e3b397aa9",
   "metadata": {},
   "source": [
    "## 1. Data loading and pre-processing"
   ]
  },
  {
   "cell_type": "code",
   "id": "2249cd50d42b706e",
   "metadata": {
    "ExecuteTime": {
     "end_time": "2024-11-15T19:15:04.609595Z",
     "start_time": "2024-11-15T19:15:04.485437Z"
    }
   },
   "source": [
    "import numpy as np\n",
    "import pandas as pd\n",
    "import seaborn as sns\n",
    "import urllib.parse\n",
    "import matplotlib.pyplot as plt\n",
    "import statsmodels.formula.api as smf\n",
    "from collections import defaultdict, deque\n",
    "from src.utils.pagerank_utils import *"
   ],
   "outputs": [],
   "execution_count": 3
  },
  {
   "cell_type": "code",
   "id": "initial_id",
   "metadata": {
    "collapsed": true,
    "ExecuteTime": {
     "end_time": "2024-11-15T19:15:05.031051Z",
     "start_time": "2024-11-15T19:15:04.616062Z"
    }
   },
   "source": [
    "# Load all the data from the tsv files, skipping the headers and specifying column names\n",
    "DATA_FOLDER = 'data/wikispeedia_paths-and-graph/'\n",
    "articles = pd.read_csv(DATA_FOLDER + 'articles.tsv', sep='\\t', skiprows=12, names=['article'])\n",
    "categories = pd.read_csv(DATA_FOLDER + 'categories.tsv', sep='\\t', skiprows=12, names=['article', 'category'])\n",
    "links = pd.read_csv(DATA_FOLDER + 'links.tsv', sep='\\t', skiprows=11, names=['linkSource', 'linkTarget'])\n",
    "paths_finished = pd.read_csv(DATA_FOLDER + 'paths_finished.tsv', sep='\\t', skiprows=15, names=['hashedIpAddress', 'timestamp', 'durationInSec', 'path', 'rating'])\n",
    "paths_unfinished = pd.read_csv(DATA_FOLDER + 'paths_unfinished.tsv', sep='\\t', skiprows=16, names=['hashedIpAddress', 'timestamp', 'durationInSec', 'path', 'target', 'type'])"
   ],
   "outputs": [],
   "execution_count": 4
  },
  {
   "cell_type": "code",
   "id": "f4f6b54132c6fbc6",
   "metadata": {
    "ExecuteTime": {
     "end_time": "2024-11-15T19:15:05.202494Z",
     "start_time": "2024-11-15T19:15:05.050812Z"
    }
   },
   "source": [
    "# Decode the URL-encoded article titles\n",
    "articles = articles.map(urllib.parse.unquote)\n",
    "categories = categories.map(urllib.parse.unquote)\n",
    "links = links.map(urllib.parse.unquote)\n",
    "paths_finished['path'] = paths_finished['path'].map(urllib.parse.unquote)\n",
    "paths_unfinished['path'] = paths_unfinished['path'].map(urllib.parse.unquote)"
   ],
   "outputs": [],
   "execution_count": 5
  },
  {
   "cell_type": "code",
   "id": "dcd80e46f6212d3a",
   "metadata": {
    "ExecuteTime": {
     "end_time": "2024-11-15T19:15:05.326262Z",
     "start_time": "2024-11-15T19:15:05.228140Z"
    }
   },
   "source": [
    "# Turn the paths into an array of article titles\n",
    "paths_finished['path'] = paths_finished['path'].str.split(';')\n",
    "paths_unfinished['path'] = paths_unfinished['path'].str.split(';')"
   ],
   "outputs": [],
   "execution_count": 6
  },
  {
   "cell_type": "code",
   "id": "b3b5e75f80de8320",
   "metadata": {
    "ExecuteTime": {
     "end_time": "2024-11-15T19:15:05.349672Z",
     "start_time": "2024-11-15T19:15:05.346578Z"
    }
   },
   "source": [
    "# Articles is a 1-column DataFrame, so convert it to a Series\n",
    "articles = pd.Series(articles['article'])"
   ],
   "outputs": [],
   "execution_count": 7
  },
  {
   "metadata": {},
   "cell_type": "markdown",
   "source": [
    "### Handling Missing Values\n",
    "\n",
    "We found missing values for the rating of finished paths and decided not to impute them as replacing missing values with the median rating would not make sense. We will only use finished paths with a human rating and discard all other finished paths when we need to make analysis based on the rating.\n",
    "\n",
    "### Handling the data size\n",
    "\n",
    "Our pipeline can handle the datasize as we do not need to handle bigger datasets than the ones we have already treated through this pipeline."
   ],
   "id": "6d89a1a85e10e711"
  },
  {
   "metadata": {
    "ExecuteTime": {
     "end_time": "2024-11-15T19:15:05.450655Z",
     "start_time": "2024-11-15T19:15:05.396325Z"
    }
   },
   "cell_type": "code",
   "source": [
    "# Computing descriptive statistics for key variables\n",
    "\n",
    "# We noticed that some paths had length one, we clean them further in the pipeline.\n",
    "\n",
    "paths_finished_len = paths_finished['path'].apply(len)\n",
    "print(paths_finished_len.describe())\n",
    "print(paths_finished['rating'].describe())"
   ],
   "id": "6df1729f5e633a0c",
   "outputs": [
    {
     "name": "stdout",
     "output_type": "stream",
     "text": [
      "count    51318.000000\n",
      "mean         6.757434\n",
      "std          4.680718\n",
      "min          1.000000\n",
      "25%          5.000000\n",
      "50%          6.000000\n",
      "75%          8.000000\n",
      "max        435.000000\n",
      "Name: path, dtype: float64\n",
      "count    28501.000000\n",
      "mean         2.269780\n",
      "std          1.110439\n",
      "min          1.000000\n",
      "25%          1.000000\n",
      "50%          2.000000\n",
      "75%          3.000000\n",
      "max          5.000000\n",
      "Name: rating, dtype: float64\n"
     ]
    }
   ],
   "execution_count": 8
  },
  {
   "metadata": {},
   "cell_type": "markdown",
   "source": [
    "### Exploring correlations\n",
    "\n",
    "Here we evaluate the correlation between the difficulty and the path length for human games. \n",
    "We observe that the rating is positively correlated with the path length.\n",
    "R2 shows that our model explains some of the variance of the data.\n",
    "p is close to 0 which shows that the rating is a good predictor for the path length."
   ],
   "id": "3e602a52806671b6"
  },
  {
   "metadata": {
    "ExecuteTime": {
     "end_time": "2024-11-15T19:15:05.541999Z",
     "start_time": "2024-11-15T19:15:05.471269Z"
    }
   },
   "cell_type": "code",
   "source": [
    "paths_finished['path_length'] = paths_finished_len\n",
    "mod = smf.ols(formula='path_length ~ rating', data=paths_finished)\n",
    "res = mod.fit()\n",
    "res.summary()"
   ],
   "id": "4a474c6ff163a49b",
   "outputs": [
    {
     "data": {
      "text/plain": [
       "<class 'statsmodels.iolib.summary.Summary'>\n",
       "\"\"\"\n",
       "                            OLS Regression Results                            \n",
       "==============================================================================\n",
       "Dep. Variable:            path_length   R-squared:                       0.163\n",
       "Model:                            OLS   Adj. R-squared:                  0.163\n",
       "Method:                 Least Squares   F-statistic:                     5551.\n",
       "Date:                Fri, 15 Nov 2024   Prob (F-statistic):               0.00\n",
       "Time:                        20:15:05   Log-Likelihood:                -84559.\n",
       "No. Observations:               28501   AIC:                         1.691e+05\n",
       "Df Residuals:                   28499   BIC:                         1.691e+05\n",
       "Df Model:                           1                                         \n",
       "Covariance Type:            nonrobust                                         \n",
       "==============================================================================\n",
       "                 coef    std err          t      P>|t|      [0.025      0.975]\n",
       "------------------------------------------------------------------------------\n",
       "Intercept      2.4686      0.063     38.950      0.000       2.344       2.593\n",
       "rating         1.8687      0.025     74.502      0.000       1.819       1.918\n",
       "==============================================================================\n",
       "Omnibus:                    73824.614   Durbin-Watson:                   1.935\n",
       "Prob(Omnibus):                  0.000   Jarque-Bera (JB):       6510845304.372\n",
       "Skew:                          29.186   Prob(JB):                         0.00\n",
       "Kurtosis:                    2343.773   Cond. No.                         6.50\n",
       "==============================================================================\n",
       "\n",
       "Notes:\n",
       "[1] Standard Errors assume that the covariance matrix of the errors is correctly specified.\n",
       "\"\"\""
      ],
      "text/html": [
       "<table class=\"simpletable\">\n",
       "<caption>OLS Regression Results</caption>\n",
       "<tr>\n",
       "  <th>Dep. Variable:</th>       <td>path_length</td>   <th>  R-squared:         </th> <td>   0.163</td> \n",
       "</tr>\n",
       "<tr>\n",
       "  <th>Model:</th>                   <td>OLS</td>       <th>  Adj. R-squared:    </th> <td>   0.163</td> \n",
       "</tr>\n",
       "<tr>\n",
       "  <th>Method:</th>             <td>Least Squares</td>  <th>  F-statistic:       </th> <td>   5551.</td> \n",
       "</tr>\n",
       "<tr>\n",
       "  <th>Date:</th>             <td>Fri, 15 Nov 2024</td> <th>  Prob (F-statistic):</th>  <td>  0.00</td>  \n",
       "</tr>\n",
       "<tr>\n",
       "  <th>Time:</th>                 <td>20:15:05</td>     <th>  Log-Likelihood:    </th> <td> -84559.</td> \n",
       "</tr>\n",
       "<tr>\n",
       "  <th>No. Observations:</th>      <td> 28501</td>      <th>  AIC:               </th> <td>1.691e+05</td>\n",
       "</tr>\n",
       "<tr>\n",
       "  <th>Df Residuals:</th>          <td> 28499</td>      <th>  BIC:               </th> <td>1.691e+05</td>\n",
       "</tr>\n",
       "<tr>\n",
       "  <th>Df Model:</th>              <td>     1</td>      <th>                     </th>     <td> </td>    \n",
       "</tr>\n",
       "<tr>\n",
       "  <th>Covariance Type:</th>      <td>nonrobust</td>    <th>                     </th>     <td> </td>    \n",
       "</tr>\n",
       "</table>\n",
       "<table class=\"simpletable\">\n",
       "<tr>\n",
       "      <td></td>         <th>coef</th>     <th>std err</th>      <th>t</th>      <th>P>|t|</th>  <th>[0.025</th>    <th>0.975]</th>  \n",
       "</tr>\n",
       "<tr>\n",
       "  <th>Intercept</th> <td>    2.4686</td> <td>    0.063</td> <td>   38.950</td> <td> 0.000</td> <td>    2.344</td> <td>    2.593</td>\n",
       "</tr>\n",
       "<tr>\n",
       "  <th>rating</th>    <td>    1.8687</td> <td>    0.025</td> <td>   74.502</td> <td> 0.000</td> <td>    1.819</td> <td>    1.918</td>\n",
       "</tr>\n",
       "</table>\n",
       "<table class=\"simpletable\">\n",
       "<tr>\n",
       "  <th>Omnibus:</th>       <td>73824.614</td> <th>  Durbin-Watson:     </th>    <td>   1.935</td>   \n",
       "</tr>\n",
       "<tr>\n",
       "  <th>Prob(Omnibus):</th>  <td> 0.000</td>   <th>  Jarque-Bera (JB):  </th> <td>6510845304.372</td>\n",
       "</tr>\n",
       "<tr>\n",
       "  <th>Skew:</th>           <td>29.186</td>   <th>  Prob(JB):          </th>    <td>    0.00</td>   \n",
       "</tr>\n",
       "<tr>\n",
       "  <th>Kurtosis:</th>      <td>2343.773</td>  <th>  Cond. No.          </th>    <td>    6.50</td>   \n",
       "</tr>\n",
       "</table><br/><br/>Notes:<br/>[1] Standard Errors assume that the covariance matrix of the errors is correctly specified."
      ],
      "text/latex": "\\begin{center}\n\\begin{tabular}{lclc}\n\\toprule\n\\textbf{Dep. Variable:}    &   path\\_length   & \\textbf{  R-squared:         } &       0.163     \\\\\n\\textbf{Model:}            &       OLS        & \\textbf{  Adj. R-squared:    } &       0.163     \\\\\n\\textbf{Method:}           &  Least Squares   & \\textbf{  F-statistic:       } &       5551.     \\\\\n\\textbf{Date:}             & Fri, 15 Nov 2024 & \\textbf{  Prob (F-statistic):} &       0.00      \\\\\n\\textbf{Time:}             &     20:15:05     & \\textbf{  Log-Likelihood:    } &     -84559.     \\\\\n\\textbf{No. Observations:} &       28501      & \\textbf{  AIC:               } &   1.691e+05     \\\\\n\\textbf{Df Residuals:}     &       28499      & \\textbf{  BIC:               } &   1.691e+05     \\\\\n\\textbf{Df Model:}         &           1      & \\textbf{                     } &                 \\\\\n\\textbf{Covariance Type:}  &    nonrobust     & \\textbf{                     } &                 \\\\\n\\bottomrule\n\\end{tabular}\n\\begin{tabular}{lcccccc}\n                   & \\textbf{coef} & \\textbf{std err} & \\textbf{t} & \\textbf{P$> |$t$|$} & \\textbf{[0.025} & \\textbf{0.975]}  \\\\\n\\midrule\n\\textbf{Intercept} &       2.4686  &        0.063     &    38.950  &         0.000        &        2.344    &        2.593     \\\\\n\\textbf{rating}    &       1.8687  &        0.025     &    74.502  &         0.000        &        1.819    &        1.918     \\\\\n\\bottomrule\n\\end{tabular}\n\\begin{tabular}{lclc}\n\\textbf{Omnibus:}       & 73824.614 & \\textbf{  Durbin-Watson:     } &       1.935     \\\\\n\\textbf{Prob(Omnibus):} &    0.000  & \\textbf{  Jarque-Bera (JB):  } & 6510845304.372  \\\\\n\\textbf{Skew:}          &   29.186  & \\textbf{  Prob(JB):          } &        0.00     \\\\\n\\textbf{Kurtosis:}      &  2343.773 & \\textbf{  Cond. No.          } &        6.50     \\\\\n\\bottomrule\n\\end{tabular}\n%\\caption{OLS Regression Results}\n\\end{center}\n\nNotes: \\newline\n [1] Standard Errors assume that the covariance matrix of the errors is correctly specified."
     },
     "execution_count": 9,
     "metadata": {},
     "output_type": "execute_result"
    }
   ],
   "execution_count": 9
  },
  {
   "cell_type": "markdown",
   "id": "65fcf56f6b23c19b",
   "metadata": {},
   "source": [
    "## 2. Compute probabilities and entropies\n",
    "\n",
    "### 2.A. Prior click probability\n",
    "\n",
    "![Formula for the prior click probability](./images/probs_prior.png)"
   ]
  },
  {
   "cell_type": "code",
   "id": "bb7f37f809c6bd81",
   "metadata": {
    "ExecuteTime": {
     "end_time": "2024-11-15T19:15:05.799066Z",
     "start_time": "2024-11-15T19:15:05.644970Z"
    }
   },
   "source": [
    "# Prior click probability\n",
    "\n",
    "# The probability to click on each of article a’s L_a outlinks is the same for all outlinks\n",
    "# So we don’t need a third dimension to index the specific outlinks\n",
    "\n",
    "# Actually, it doesn’t depend either on the goal, because our prior is that the links are clicked randomly\n",
    "\n",
    "# Count the outlinks of each article to get the probability of clicking on any of them\n",
    "out_degree = links.groupby('linkSource').size()\n",
    "probs_prior = 1 / out_degree\n",
    "# Create a Series indexed by 'linkSource' that gives a list of all the source’s outlinks\n",
    "out_links = links.groupby('linkSource')['linkTarget'].agg(list)"
   ],
   "outputs": [],
   "execution_count": 10
  },
  {
   "cell_type": "markdown",
   "id": "a3613fd1a1d169e6",
   "metadata": {},
   "source": [
    "### 2.B. Posterior click probability\n",
    "\n",
    "![Formula for the posterior click probability](./images/probs_posterior.png)"
   ]
  },
  {
   "cell_type": "code",
   "id": "1e47d883519e1469",
   "metadata": {
    "ExecuteTime": {
     "end_time": "2024-11-15T19:15:06.663778Z",
     "start_time": "2024-11-15T19:15:05.821491Z"
    }
   },
   "source": [
    "# N(A=a, G=g): the number of times 'a' was encountered on paths for which 'g' was the goal\n",
    "count_goal_article = defaultdict(lambda: defaultdict(int))\n",
    "# N(A’=a’, A=a, G=g): the number of times a’ was clicked in this situation\n",
    "count_goal_article_article_clicked = defaultdict(lambda: defaultdict(lambda: defaultdict(int)))\n",
    "# Filter out the paths that have only one article, because I have no clue what they mean\n",
    "paths = paths_finished['path'][paths_finished['path'].apply(len) > 1]\n",
    "\n",
    "# Create simplified paths by getting rid of the backtracking steps, and going straight\n",
    "# where the player ended up going after backtracking\n",
    "def straighten_path(path):\n",
    "    stack = deque()\n",
    "    for article in path:\n",
    "        if article == '<':\n",
    "            stack.pop()\n",
    "        else:\n",
    "            stack.append(article)\n",
    "    return list(stack)\n",
    "\n",
    "paths_no_backtrack = paths.apply(straighten_path)\n",
    "\n",
    "# Count the occurrences of a, a’ and g along every path\n",
    "for path in paths_no_backtrack:\n",
    "    goal = path[-1]\n",
    "    # Iterate through the path by getting each time one article and the one that was clicked from it.\n",
    "    # It starts at (start_article, first_article_clicked) and ends with (before_last_article, goal).\n",
    "    for article, article_clicked in zip(path, path[1:]):\n",
    "        count_goal_article[goal][article] += 1\n",
    "        count_goal_article_article_clicked[goal][article][article_clicked] += 1"
   ],
   "outputs": [],
   "execution_count": 11
  },
  {
   "cell_type": "code",
   "id": "ad5f47e461374d3e",
   "metadata": {
    "ExecuteTime": {
     "end_time": "2024-11-15T19:15:39.677266Z",
     "start_time": "2024-11-15T19:15:06.896045Z"
    }
   },
   "source": [
    "# Posterior click probabilities\n",
    "probs_posterior = defaultdict(lambda: defaultdict(lambda: defaultdict(int)))\n",
    "# alpha_ is the Dirichlet parameter representing the initial confidence in the uniform prior distribution\n",
    "alpha_ = 0.1\n",
    "\n",
    "for g, article_counts in count_goal_article.items():\n",
    "    for a, count in article_counts.items():\n",
    "        for a_ in out_links[a]:\n",
    "            # Use the formula (1) from the Wikispeedia paper\n",
    "            probs_posterior[g][a][a_] = (\n",
    "                    (count_goal_article_article_clicked[g][a][a_] + alpha_)\n",
    "                    /\n",
    "                    (count_goal_article[g][a] + alpha_ * out_degree[a])\n",
    "            )"
   ],
   "outputs": [],
   "execution_count": 12
  },
  {
   "cell_type": "markdown",
   "id": "f5d986b1468c4a90",
   "metadata": {},
   "source": [
    "### 2.C. Prior and posterior entropies\n",
    "\n",
    "Compute the prior and posterior entropy at each article along the path, except for the goal, because entropy is 0 once we have reached the goal."
   ]
  },
  {
   "cell_type": "code",
   "id": "3cad4dab0c8590d3",
   "metadata": {
    "ExecuteTime": {
     "end_time": "2024-11-15T19:16:07.963309Z",
     "start_time": "2024-11-15T19:15:50.398422Z"
    }
   },
   "source": [
    "def path_to_prior_entropy(path):\n",
    "    \"\"\"\n",
    "    Turn a path into the prior entropy at each article along the path\n",
    "    \n",
    "    Parameters:\n",
    "        path (array of strings): list of the titles of the articles along the path\n",
    "        \n",
    "    Returns:\n",
    "        entropies (array of floats): list of the prior entropy values for each article along this path\n",
    "    \"\"\"\n",
    "    # Skip the goal because the entropy is 0 at the goal\n",
    "    return [-1 * out_degree[a] * probs_prior[a] * np.log(probs_prior[a]) for a in path[:-1]]\n",
    "\n",
    "def path_to_posterior_entropy(path):\n",
    "    \"\"\"\n",
    "    Turn a path into the posterior entropy at each article along the path\n",
    "    \n",
    "    Parameters:\n",
    "        path (array of strings): list of the titles of the articles along the path\n",
    "        \n",
    "    Returns:\n",
    "        entropies (array of floats): list of the posterior entropy values for each article along this path\n",
    "    \"\"\"\n",
    "    g = path[-1]\n",
    "    # Skip the goal because the entropy is 0 at the goal\n",
    "    return [(-1 * sum([prob * np.log(prob) for prob in probs_posterior[g][a].values()])) for a in path[:-1]]\n",
    "\n",
    "entropies_prior = paths_no_backtrack.apply(path_to_prior_entropy)\n",
    "entropies_posterior = paths_no_backtrack.apply(path_to_posterior_entropy)"
   ],
   "outputs": [],
   "execution_count": 13
  },
  {
   "cell_type": "code",
   "id": "d211d7624e89eb32",
   "metadata": {
    "ExecuteTime": {
     "end_time": "2024-11-15T19:16:19.451107Z",
     "start_time": "2024-11-15T19:16:18.063421Z"
    }
   },
   "source": [
    "# Visualize the entropies like in Fig. 2 of the Wikispeedia paper\n",
    "def plot_normalized_positions(series, graph_title, n_bins=7):\n",
    "    \"\"\"\n",
    "    Create a bar plot of binned averages along the length of an array,\n",
    "    but plotted along an x-axis normalized to [0,1].\n",
    "    \n",
    "    Parameters:\n",
    "    series: pandas.Series where each element is an array of numbers\n",
    "    graph_titre: string with the name of the quantity plotted\n",
    "    n_bins: number of bins to divide the [0,1] interval into\n",
    "    \"\"\"\n",
    "    # Create empty lists to store normalized positions and values\n",
    "    all_positions = []\n",
    "    all_values = []\n",
    "\n",
    "    # Process each array in the series\n",
    "    for arr in series:\n",
    "        length = len(arr)\n",
    "        # Create normalized positions for this array\n",
    "        positions = np.linspace(0, 1, length)\n",
    "\n",
    "        all_positions.extend(positions)\n",
    "        all_values.extend(arr)\n",
    "\n",
    "    # Create a DataFrame with the normalized positions and values\n",
    "    df = pd.DataFrame({\n",
    "        'position': all_positions,\n",
    "        'value': all_values\n",
    "    })\n",
    "\n",
    "    # Create bins and calculate statistics for each bin\n",
    "    df['bin'] = pd.cut(df['position'], bins=n_bins, labels=[f'{i/n_bins:.2f}-{(i+1)/n_bins:.2f}' for i in range(n_bins)])\n",
    "\n",
    "    bin_stats = df.groupby('bin', observed=True).agg({\n",
    "        'value': ['mean']\n",
    "    }).reset_index()\n",
    "\n",
    "    # Flatten the column names\n",
    "    bin_stats.columns = ['bin', 'mean']\n",
    "\n",
    "    # Create the plot\n",
    "    plt.figure(figsize=(8, 3))\n",
    "    sns.barplot(data=bin_stats, x='bin', y='mean')\n",
    "\n",
    "    plt.title(f'Average {graph_title} along normalized path distance')\n",
    "    plt.xlabel('Normalized distance along the path')\n",
    "    plt.ylabel('Average bits of information')\n",
    "    plt.xticks(rotation=45)\n",
    "\n",
    "    return plt.gcf()\n",
    "\n",
    "plot_normalized_positions(entropies_prior, 'prior entropy')\n",
    "plt.show()\n",
    "plot_normalized_positions(entropies_posterior, 'posterior entropy')\n",
    "plt.show()"
   ],
   "outputs": [
    {
     "data": {
      "text/plain": [
       "<Figure size 800x300 with 1 Axes>"
      ],
      "image/png": "[encoded data removed]"
     },
     "metadata": {},
     "output_type": "display_data"
    },
    {
     "data": {
      "text/plain": [
       "<Figure size 800x300 with 1 Axes>"
      ],
      "image/png": "[encoded data removed]"
     },
     "metadata": {},
     "output_type": "display_data"
    }
   ],
   "execution_count": 14
  },
  {
   "cell_type": "markdown",
   "id": "dd6e61d6d1b59351",
   "metadata": {},
   "source": [
    "## 3. Split the paths\n",
    "\n",
    "### 3.A. Compute “information gain”\n",
    "\n",
    "This represents how much information we gain by looking at the click distribution, as described in section 4 and figure 2 of the paper."
   ]
  },
  {
   "cell_type": "code",
   "id": "bb1763f7dc827e01",
   "metadata": {
    "ExecuteTime": {
     "end_time": "2024-11-15T19:16:31.615871Z",
     "start_time": "2024-11-15T19:16:30.977037Z"
    }
   },
   "source": [
    "# Define a function to subtract two lists element-wise\n",
    "def subtract_lists(list1, list2):\n",
    "    return [a - b for a, b in zip(list1, list2)]\n",
    "\n",
    "# Subtract posterior entropy to prior entropy element-wise in each path to obtain information gain\n",
    "information_gain = entropies_prior.combine(entropies_posterior, subtract_lists)"
   ],
   "outputs": [],
   "execution_count": 15
  },
  {
   "cell_type": "code",
   "id": "1180a59e146aa531",
   "metadata": {
    "ExecuteTime": {
     "end_time": "2024-11-15T19:16:44.689685Z",
     "start_time": "2024-11-15T19:16:43.857797Z"
    }
   },
   "source": [
    "plot_normalized_positions(information_gain, 'information gain')\n",
    "plt.show()"
   ],
   "outputs": [
    {
     "data": {
      "text/plain": [
       "<Figure size 800x300 with 1 Axes>"
      ],
      "image/png": "[encoded data removed]"
     },
     "metadata": {},
     "output_type": "display_data"
    }
   ],
   "execution_count": 16
  },
  {
   "cell_type": "markdown",
   "id": "26ea43686e9bd4cd",
   "metadata": {},
   "source": [
    "This is similar to what the paper gets:\n",
    "\n",
    "![information gain graph from the paper](./images/fig_2_paper.png)"
   ]
  },
  {
   "cell_type": "markdown",
   "id": "c942b33c50b8771e",
   "metadata": {},
   "source": [
    "### 3.B. Get the splitting point and split the paths"
   ]
  },
  {
   "cell_type": "code",
   "id": "ba4bd099cce4dd6f",
   "metadata": {
    "ExecuteTime": {
     "end_time": "2024-11-15T19:16:56.643736Z",
     "start_time": "2024-11-15T19:16:56.321993Z"
    }
   },
   "source": [
    "# Add all the “homing in” parts of the paths in the array, by splitting\n",
    "# the paths at the point of minimum information\n",
    "\n",
    "# Get the index of the point of lowest information gain for each path\n",
    "argmin_info_gain = information_gain.apply(np.argmin)\n",
    "# Split the path at this point and keep only the second part, corresponding to the “homing in” phase\n",
    "paths_homing_in = pd.Series([path[argmin_info_gain[i]:] for i, path in paths_no_backtrack.items()])"
   ],
   "outputs": [],
   "execution_count": 17
  },
  {
   "cell_type": "markdown",
   "id": "d2ef5f3be3bd04c6",
   "metadata": {},
   "source": [
    "## 4. Compute embedding distances\n",
    "\n",
    "We now need to get a list of all the article titles whose embedding we need to compute, as well as the list of pairs of articles between which we need to compute the distance."
   ]
  },
  {
   "cell_type": "code",
   "id": "72c27426a11a450e",
   "metadata": {
    "ExecuteTime": {
     "end_time": "2024-11-15T19:17:08.742131Z",
     "start_time": "2024-11-15T19:17:08.642055Z"
    }
   },
   "source": [
    "# Compute the set of all articles encountered in the paths_homing_in\n",
    "# Every article encountered along a goal has a defined distance with the goal\n",
    "all_distance_pairs = set()\n",
    "all_articles = set()\n",
    "for path in paths_homing_in:\n",
    "    goal  = path[-1]\n",
    "    for article in path:\n",
    "        all_articles.add(article)\n",
    "        all_distance_pairs.add((article, goal))"
   ],
   "outputs": [],
   "execution_count": 18
  },
  {
   "cell_type": "markdown",
   "id": "f3d6ea0652cbcba8",
   "metadata": {},
   "source": [
    "We use the sentence-transformers library to load the pre-trained BERT model and compute embeddings for each of our article titles. Then, we compute distances between these embeddings models, using both cosine similarity and Euclidean distance, which we return in a dataframe `similarities`."
   ]
  },
  {
   "cell_type": "code",
   "id": "2abef8c191933114",
   "metadata": {
    "ExecuteTime": {
     "end_time": "2024-11-15T19:17:20.733296Z",
     "start_time": "2024-11-15T19:17:19.917443Z"
    }
   },
   "source": [
    "from src.scripts.generate_embeddings_distances import get_embeddings_distances\n",
    "similarities = get_embeddings_distances(all_articles, all_distance_pairs, 'data/article_similarities.csv')"
   ],
   "outputs": [],
   "execution_count": 19
  },
  {
   "cell_type": "markdown",
   "id": "6e7f0818873c29c2",
   "metadata": {},
   "source": [
    "## 5. Make the LLMs play Wikispeedia games\n",
    "\n",
    "Here we run our script to make the LLMs play Wikispeedia games on the same starting and target articles as in `paths_finished`, and we gather the resulting game paths in DataFrames. We generate do twice, once using `gpt-4o-mini` from OpenAI and once using `mistral-large-2407`.\n",
    "\n",
    "We already ran the script `run_llm_games.py` to generate the files, so we can just load them."
   ]
  },
  {
   "cell_type": "code",
   "id": "96339fb378931d64",
   "metadata": {
    "ExecuteTime": {
     "end_time": "2024-11-15T19:17:33.260227Z",
     "start_time": "2024-11-15T19:17:33.234674Z"
    }
   },
   "source": [
    "llm_choices_gpt4omini = pd.read_csv('data/llm_choices.tsv', sep='\\t')\n",
    "llm_choices_mistral_large = pd.read_csv('data/llm_choices_mistral_1.tsv', sep='\\t')\n",
    "llm_paths_gpt4omini = pd.read_csv('data/llm_paths.tsv', sep='\\t')\n",
    "llm_paths_misrtal_large = pd.read_csv('data/llm_paths_mistral_1.tsv', sep='\\t')"
   ],
   "outputs": [],
   "execution_count": 20
  },
  {
   "cell_type": "markdown",
   "id": "df62c9a4f3b0df9e",
   "metadata": {},
   "source": [
    "## 4. Compute semantic distances from paths\n",
    "\n",
    "We compute the path-specific distances along all our “homing-in” paths, as described in section 3 of the paper:\n",
    "\n",
    "![formula for the path-specific distance from the paper](./images/path_specific_distance.png)\n",
    "\n",
    "### 4.A. PageRank\n",
    "\n",
    "We first compute the PageRank of each article."
   ]
  },
  {
   "cell_type": "code",
   "id": "7fcfcf36968ae6b",
   "metadata": {
    "ExecuteTime": {
     "end_time": "2024-11-15T19:17:45.492944Z",
     "start_time": "2024-11-15T19:17:44.570824Z"
    }
   },
   "source": [
    "M, nodes = build_transition_matrix(links)\n",
    "ranks = pagerank(M)\n",
    "\n",
    "#Properties that were tested and validated: every rank is inferior to 1, the sum of all ranks is 1.\n",
    "#Dictionary of pagerank per article.\n",
    "PAGERANK_SCORES = dict(zip(nodes, ranks))"
   ],
   "outputs": [],
   "execution_count": 21
  },
  {
   "cell_type": "markdown",
   "id": "d930fe7bcd3e4263",
   "metadata": {},
   "source": [
    "- Nous avons 5 articles qui ont des inwards links mais pas d'outgoing link (dandling nodes): ['Directdebit', 'Duchenne_muscular_dystrophy', 'Klinefelter%27s_syndrome', 'Local_community', 'Osteomalacia']\n",
    "- Le plus haut pagerank est atteint par l'article Etats-Unis\n",
    "- Le pagerank le plus bas est atteint par l'article %C3%81ed%C3%A1n_mac_Gabr%C3%A1in\n",
    "\n",
    "### 4.B. Path-specific and path-independent distances\n",
    "\n",
    "We now compute the path-specific distance as described above in equation (2), as well as the path-independent distance, as described in equation (4) of the paper:\n",
    "\n",
    "![formula for the path-independent distance from the paper](./images/path_independent_distance.png)"
   ]
  },
  {
   "cell_type": "code",
   "id": "99c97eb2060d4fd9",
   "metadata": {},
   "source": [
    "#2 Initialize the distances matrix\n",
    "nodes = np.unique(links[['linkSource', 'linkTarget']].values.flatten())\n",
    "distances_counts = pd.DataFrame(0, index=nodes, columns=nodes) #used in computing the average of path distances.\n",
    "distances = pd.DataFrame(0.0, index=nodes, columns=nodes) # Interface: distances[article1][article2] = d(article1, article2)\n",
    "\n",
    "#define path distance computation function\n",
    "def compute_path_distance(i, path):\n",
    "    goal = path[-1]\n",
    "    sum_p = 0\n",
    "    for i in range(i, len(path) - 1):\n",
    "        sum_p -= np.log(probs_posterior[goal][path[i]][path[i+1]])\n",
    "    return sum_p / np.log(PAGERANK_SCORES[goal])\n",
    "\n",
    "#fill in distances without normalization and distances_count for one path\n",
    "def path_distances_traversal(path):\n",
    "    goal = path[-1]\n",
    "    for i in range(0, len(path) - 1): # len(path) - 1: We don't consider the distance from the goal to itself\n",
    "        if path[i] not in links['linkSource'].values or goal not in links['linkSource'].values:\n",
    "            continue\n",
    "        distances.loc[goal, path[i]] += compute_path_distance(i, path)\n",
    "        distances_counts.loc[goal, path[i]] += 1\n",
    "    return path\n",
    "\n",
    "#3 Compute the distances and distances_counts matrix by passing through all the paths and incrementing the two matrices accordingly\n",
    "paths_homing_in.apply(path_distances_traversal)\n",
    "\n",
    "#4 Normalize the distances according to the number of occurences of given distance in the paths\n",
    "distances_counts[distances_counts == 0] = 1 # avoid dividing by zero\n",
    "distances = distances / distances_counts\n",
    "\n",
    "# Put every undefined distance to a negative value.\n",
    "distances[distances == 0] = -1"
   ],
   "outputs": [],
   "execution_count": null
  },
  {
   "metadata": {},
   "cell_type": "markdown",
   "source": [
    "This concludes our dataset generation, initial data analyses and computations for the project’s P2 milestone.\n",
    "\n",
    "The next steps, our research questions and methods to tackle them are further described in the README.md file.\n",
    "\n",
    "Thank you and have a nice day!\n"
   ],
   "id": "ea1ccbb591537c00"
  }
 ],
 "metadata": {
  "kernelspec": {
   "display_name": "ada",
   "language": "python",
   "name": "python3"
  },
  "language_info": {
   "codemirror_mode": {
    "name": "ipython",
    "version": 3
   },
   "file_extension": ".py",
   "mimetype": "text/x-python",
   "name": "python",
   "nbconvert_exporter": "python",
   "pygments_lexer": "ipython3",
   "version": "3.11.9"
  }
 },
 "nbformat": 4,
 "nbformat_minor": 5
}
