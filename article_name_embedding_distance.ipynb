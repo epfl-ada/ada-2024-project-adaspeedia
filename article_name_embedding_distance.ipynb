{
 "cells": [
  {
   "cell_type": "code",
   "execution_count": null,
   "metadata": {},
   "outputs": [],
   "source": [
    "from transformers import AutoTokenizer, AutoModel\n",
    "import torch\n",
    "from sklearn.metrics.pairwise import cosine_similarity\n",
    "\n",
    "model_name = \"bert-base-uncased\"  \n",
    "tokenizer = AutoTokenizer.from_pretrained(model_name)\n",
    "model = AutoModel.from_pretrained(model_name)\n",
    "\n",
    "def get_embedding(text):\n",
    "    inputs = tokenizer(text, return_tensors=\"pt\")\n",
    "    with torch.no_grad(): # we are not training the model, so we don't need gradients\n",
    "        outputs = model(**inputs)\n",
    "    embedding = outputs.last_hidden_state.mean(dim=1).squeeze()\n",
    "    return embedding\n",
    "\n",
    "\n"
   ]
  },
  {
   "cell_type": "code",
   "execution_count": 5,
   "metadata": {},
   "outputs": [],
   "source": [
    "def calculate_cosine_similarity(emb_title1, emb_title2):\n",
    "    emb_title1 = emb_title1.reshape(1, -1)\n",
    "    emb_title2 = emb_title2.reshape(1, -1)\n",
    "\n",
    "    similarity = cosine_similarity(emb_title1, emb_title2)[0][0]\n",
    "    return similarity\n"
   ]
  },
  {
   "cell_type": "code",
   "execution_count": null,
   "metadata": {},
   "outputs": [],
   "source": [
    "import ast\n",
    "with open('all_distance_pairs.txt', 'r') as f:\n",
    "    all_distance_pairs = ast.literal_eval(f.read())\n",
    "with open('all_articles.txt', 'r') as f:\n",
    "    all_articles = ast.literal_eval(f.read())\n",
    "\n",
    "# get the embeddings of all articles and store them in a dictionary\n",
    "article_embeddings = {}\n",
    "for article in all_articles:\n",
    "    article_embeddings[article] = get_embedding(article)\n",
    "\n",
    "# calculate the cosine similarity between all pairs of articles\n",
    "similarities = {}\n",
    "for pair in all_distance_pairs:\n",
    "    title1 = pair[0]\n",
    "    title2 = pair[1]\n",
    "    embedding1 = article_embeddings[title1]\n",
    "    embedding2 = article_embeddings[title2]\n",
    "    similarity =  calculate_cosine_similarity(embedding1, embedding2)\n",
    "    similarities[(title1, title2)] = similarity\n"
   ]
  },
  {
   "cell_type": "code",
   "execution_count": 15,
   "metadata": {},
   "outputs": [],
   "source": [
    "# get the format of the dataframes\n",
    "import pandas as pd\n",
    "df = pd.DataFrame(similarities.items(), columns=['pair', 'cosine_similarity'])"
   ]
  },
  {
   "cell_type": "code",
   "execution_count": 8,
   "metadata": {},
   "outputs": [
    {
     "name": "stdout",
     "output_type": "stream",
     "text": [
      "Requirement already satisfied: sentence_transformers in d:\\ghita\\anaconda\\envs\\modern_nlp\\lib\\site-packages (3.2.1)\n",
      "Requirement already satisfied: transformers<5.0.0,>=4.41.0 in d:\\ghita\\anaconda\\envs\\modern_nlp\\lib\\site-packages (from sentence_transformers) (4.42.0.dev0)\n",
      "Requirement already satisfied: tqdm in d:\\ghita\\anaconda\\envs\\modern_nlp\\lib\\site-packages (from sentence_transformers) (4.66.2)\n",
      "Requirement already satisfied: torch>=1.11.0 in d:\\ghita\\anaconda\\envs\\modern_nlp\\lib\\site-packages (from sentence_transformers) (2.1.0)\n",
      "Requirement already satisfied: scikit-learn in d:\\ghita\\anaconda\\envs\\modern_nlp\\lib\\site-packages (from sentence_transformers) (1.4.1.post1)\n",
      "Requirement already satisfied: scipy in d:\\ghita\\anaconda\\envs\\modern_nlp\\lib\\site-packages (from sentence_transformers) (1.12.0)\n",
      "Requirement already satisfied: huggingface-hub>=0.20.0 in d:\\ghita\\anaconda\\envs\\modern_nlp\\lib\\site-packages (from sentence_transformers) (0.23.3)\n",
      "Requirement already satisfied: Pillow in d:\\ghita\\anaconda\\envs\\modern_nlp\\lib\\site-packages (from sentence_transformers) (10.2.0)\n",
      "Requirement already satisfied: filelock in d:\\ghita\\anaconda\\envs\\modern_nlp\\lib\\site-packages (from huggingface-hub>=0.20.0->sentence_transformers) (3.13.1)\n",
      "Requirement already satisfied: fsspec>=2023.5.0 in d:\\ghita\\anaconda\\envs\\modern_nlp\\lib\\site-packages (from huggingface-hub>=0.20.0->sentence_transformers) (2023.10.0)\n",
      "Requirement already satisfied: packaging>=20.9 in d:\\ghita\\anaconda\\envs\\modern_nlp\\lib\\site-packages (from huggingface-hub>=0.20.0->sentence_transformers) (23.2)\n",
      "Requirement already satisfied: pyyaml>=5.1 in d:\\ghita\\anaconda\\envs\\modern_nlp\\lib\\site-packages (from huggingface-hub>=0.20.0->sentence_transformers) (6.0.1)\n",
      "Requirement already satisfied: requests in d:\\ghita\\anaconda\\envs\\modern_nlp\\lib\\site-packages (from huggingface-hub>=0.20.0->sentence_transformers) (2.31.0)\n",
      "Requirement already satisfied: typing-extensions>=3.7.4.3 in d:\\ghita\\anaconda\\envs\\modern_nlp\\lib\\site-packages (from huggingface-hub>=0.20.0->sentence_transformers) (4.10.0)\n",
      "Requirement already satisfied: sympy in d:\\ghita\\anaconda\\envs\\modern_nlp\\lib\\site-packages (from torch>=1.11.0->sentence_transformers) (1.12)\n",
      "Requirement already satisfied: networkx in d:\\ghita\\anaconda\\envs\\modern_nlp\\lib\\site-packages (from torch>=1.11.0->sentence_transformers) (3.2.1)\n",
      "Requirement already satisfied: jinja2 in d:\\ghita\\anaconda\\envs\\modern_nlp\\lib\\site-packages (from torch>=1.11.0->sentence_transformers) (3.1.3)\n",
      "Requirement already satisfied: colorama in d:\\ghita\\anaconda\\envs\\modern_nlp\\lib\\site-packages (from tqdm->sentence_transformers) (0.4.6)\n",
      "Requirement already satisfied: numpy>=1.17 in d:\\ghita\\anaconda\\envs\\modern_nlp\\lib\\site-packages (from transformers<5.0.0,>=4.41.0->sentence_transformers) (1.25.2)\n",
      "Requirement already satisfied: regex!=2019.12.17 in d:\\ghita\\anaconda\\envs\\modern_nlp\\lib\\site-packages (from transformers<5.0.0,>=4.41.0->sentence_transformers) (2023.12.25)\n",
      "Requirement already satisfied: tokenizers<0.20,>=0.19 in d:\\ghita\\anaconda\\envs\\modern_nlp\\lib\\site-packages (from transformers<5.0.0,>=4.41.0->sentence_transformers) (0.19.1)\n",
      "Requirement already satisfied: safetensors>=0.4.1 in d:\\ghita\\anaconda\\envs\\modern_nlp\\lib\\site-packages (from transformers<5.0.0,>=4.41.0->sentence_transformers) (0.4.2)\n",
      "Requirement already satisfied: joblib>=1.2.0 in d:\\ghita\\anaconda\\envs\\modern_nlp\\lib\\site-packages (from scikit-learn->sentence_transformers) (1.3.2)\n",
      "Requirement already satisfied: threadpoolctl>=2.0.0 in d:\\ghita\\anaconda\\envs\\modern_nlp\\lib\\site-packages (from scikit-learn->sentence_transformers) (3.3.0)\n",
      "Requirement already satisfied: MarkupSafe>=2.0 in d:\\ghita\\anaconda\\envs\\modern_nlp\\lib\\site-packages (from jinja2->torch>=1.11.0->sentence_transformers) (2.1.5)\n",
      "Requirement already satisfied: charset-normalizer<4,>=2 in d:\\ghita\\anaconda\\envs\\modern_nlp\\lib\\site-packages (from requests->huggingface-hub>=0.20.0->sentence_transformers) (3.3.2)\n",
      "Requirement already satisfied: idna<4,>=2.5 in d:\\ghita\\anaconda\\envs\\modern_nlp\\lib\\site-packages (from requests->huggingface-hub>=0.20.0->sentence_transformers) (3.6)\n",
      "Requirement already satisfied: urllib3<3,>=1.21.1 in d:\\ghita\\anaconda\\envs\\modern_nlp\\lib\\site-packages (from requests->huggingface-hub>=0.20.0->sentence_transformers) (2.2.1)\n",
      "Requirement already satisfied: certifi>=2017.4.17 in d:\\ghita\\anaconda\\envs\\modern_nlp\\lib\\site-packages (from requests->huggingface-hub>=0.20.0->sentence_transformers) (2024.2.2)\n",
      "Requirement already satisfied: mpmath>=0.19 in d:\\ghita\\anaconda\\envs\\modern_nlp\\lib\\site-packages (from sympy->torch>=1.11.0->sentence_transformers) (1.3.0)\n",
      "Note: you may need to restart the kernel to use updated packages.\n"
     ]
    }
   ],
   "source": [
    "%pip install sentence_transformers"
   ]
  },
  {
   "cell_type": "code",
   "execution_count": 12,
   "metadata": {},
   "outputs": [],
   "source": [
    "from sentence_transformers import SentenceTransformer, util\n",
    "\n",
    "model = SentenceTransformer('all-MiniLM-L6-v2')\n",
    "\n",
    "def calculate_sbert_similarity(title1, title2):\n",
    "    # Get embeddings\n",
    "    embedding1 = model.encode(title1, convert_to_tensor=True)\n",
    "    embedding2 = model.encode(title2, convert_to_tensor=True)\n",
    "    # Calculate cosine similarity using SBERT's util function\n",
    "    similarity = util.pytorch_cos_sim(embedding1, embedding2).item()\n",
    "    return similarity\n",
    "\n"
   ]
  },
  {
   "cell_type": "code",
   "execution_count": null,
   "metadata": {},
   "outputs": [],
   "source": [
    "#using the SBERT model to calculate the similarity between all pairs of articles by adding a coloumn to the dataframe similarities\n",
    "df['sbert_similarity'] = df['pair'].apply(lambda x: calculate_sbert_similarity(x[0], x[1]))"
   ]
  },
  {
   "cell_type": "code",
   "execution_count": null,
   "metadata": {},
   "outputs": [],
   "source": [
    "from transformers import AutoTokenizer, AutoModel\n",
    "import torch\n",
    "from scipy.spatial.distance import euclidean\n",
    "\n",
    "# Load pre-trained model and tokenizer\n",
    "model_name = \"bert-base-uncased\"  # You can use any suitable model here\n",
    "tokenizer = AutoTokenizer.from_pretrained(model_name)\n",
    "model = AutoModel.from_pretrained(model_name)\n",
    "\n",
    "def get_embedding(text):\n",
    "    # Tokenize the text and get embeddings\n",
    "    inputs = tokenizer(text, return_tensors=\"pt\")\n",
    "    with torch.no_grad():\n",
    "        outputs = model(**inputs)\n",
    "    # Pool the output to get a single vector representation of the text\n",
    "    embedding = outputs.last_hidden_state.mean(dim=1).squeeze()\n",
    "    return embedding\n",
    "\n",
    "def calculate_euclidean_distance(title1, title2):\n",
    "    # Get embeddings\n",
    "    embedding1 = get_embedding(title1)\n",
    "    embedding2 = get_embedding(title2)\n",
    "    # Convert to numpy arrays for distance calculation\n",
    "    embedding1_np = embedding1.numpy()\n",
    "    embedding2_np = embedding2.numpy()\n",
    "    # Calculate Euclidean distance\n",
    "    distance = euclidean(embedding1_np, embedding2_np)\n",
    "    return distance\n",
    "\n",
    "# Example usage\n",
    "title1 = \"Understanding Machine Learning\"\n",
    "title2 = \"Introduction to Deep Learning\"\n",
    "distance = calculate_euclidean_distance(title1, title2)\n",
    "print(f\"Euclidean Distance: {distance}\")\n",
    "\n"
   ]
  },
  {
   "cell_type": "code",
   "execution_count": null,
   "metadata": {},
   "outputs": [],
   "source": [
    "# add a column to the dataframe similarities that contains the euclidean distance between the embeddings of the articles in each pair\n",
    "df['euclidean_distance'] = df['pair'].apply(lambda x: calculate_euclidean_distance(x[0], x[1]))"
   ]
  },
  {
   "cell_type": "code",
   "execution_count": null,
   "metadata": {},
   "outputs": [],
   "source": [
    "# save the dataframe to a csv file\n",
    "df.to_csv('article_similarity.csv', index=False)"
   ]
  }
 ],
 "metadata": {
  "kernelspec": {
   "display_name": "modern_nlp",
   "language": "python",
   "name": "python3"
  },
  "language_info": {
   "codemirror_mode": {
    "name": "ipython",
    "version": 3
   },
   "file_extension": ".py",
   "mimetype": "text/x-python",
   "name": "python",
   "nbconvert_exporter": "python",
   "pygments_lexer": "ipython3",
   "version": "3.10.13"
  }
 },
 "nbformat": 4,
 "nbformat_minor": 2
}
