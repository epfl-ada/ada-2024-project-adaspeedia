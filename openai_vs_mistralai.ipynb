{
 "cells": [
  {
   "cell_type": "code",
   "execution_count": 2,
   "metadata": {},
   "outputs": [],
   "source": [
    "import pandas as pd"
   ]
  },
  {
   "cell_type": "markdown",
   "metadata": {},
   "source": [
    "## Part 1 : Find the number of rows to get a statistical significant result"
   ]
  },
  {
   "cell_type": "code",
   "execution_count": 13,
   "metadata": {},
   "outputs": [
    {
     "name": "stdout",
     "output_type": "stream",
     "text": [
      "Number of rows in paths_finished: 28718\n"
     ]
    }
   ],
   "source": [
    "# get the number of rows in the data\n",
    "paths_finished = pd.read_csv('data/paths_finished_unique.tsv', sep='\\t', skiprows=1, names=['path_id', 'hashedIpAddress', 'timestamp', 'durationInSec', 'path', 'rating'])\n",
    "print('Number of rows in paths_finished:', paths_finished.shape[0])"
   ]
  },
  {
   "cell_type": "code",
   "execution_count": 14,
   "metadata": {},
   "outputs": [
    {
     "name": "stdout",
     "output_type": "stream",
     "text": [
      "Number of rows needed: 384.1599999999999\n"
     ]
    }
   ],
   "source": [
    "# as the data is too large, we can calculate the necessary number of rows using the Z-score\n",
    "# Z-score = 1.96 for 95% confidence interval\n",
    "# margin of error = 5%\n",
    "# population proportion = 0.5\n",
    "Z = 1.96\n",
    "margin_of_error = 0.05\n",
    "p = 0.5\n",
    "n = (Z**2 * p * (1-p)) / margin_of_error**2\n",
    "print('Number of rows needed:', n)"
   ]
  },
  {
   "cell_type": "markdown",
   "metadata": {},
   "source": [
    "Therefore we need to take randomly 400 rows from the dataset"
   ]
  },
  {
   "cell_type": "code",
   "execution_count": 18,
   "metadata": {},
   "outputs": [],
   "source": [
    "# Load the merged_file_mistral.tsv file\n",
    "# Load the TSV file\n",
    "file_path = \"merged_file_final_mistral.tsv\"\n",
    "df_mistral = pd.read_csv(file_path, sep=\"\\t\")\n"
   ]
  },
  {
   "cell_type": "code",
   "execution_count": 19,
   "metadata": {},
   "outputs": [],
   "source": [
    "# load the data/llm_paths.tsv file\n",
    "# Load the TSV file\n",
    "file_path = \"merged_file_final_openai.tsv\"\n",
    "df_openai = pd.read_csv(file_path, sep=\"\\t\")"
   ]
  },
  {
   "cell_type": "code",
   "execution_count": 20,
   "metadata": {},
   "outputs": [
    {
     "name": "stdout",
     "output_type": "stream",
     "text": [
      "Number of rows in the file: 21000\n",
      "Number of rows in the file: 355\n"
     ]
    }
   ],
   "source": [
    "# print the number of rows in the df_openai DataFrame\n",
    "num_rows = df_openai.shape[0]\n",
    "print(f\"Number of rows in the file: {num_rows}\")\n",
    "\n",
    "# print the number of rows in the df_mistral DataFrame\n",
    "num_rows = df_mistral.shape[0]\n",
    "print(f\"Number of rows in the file: {num_rows}\")    "
   ]
  },
  {
   "cell_type": "code",
   "execution_count": 6,
   "metadata": {},
   "outputs": [],
   "source": [
    "# get only the rows in the openai file that have the same path_id as the mistral file\n",
    "# get the path_ids from the mistral file\n",
    "mistral_path_ids = df_mistral[\"path_id\"]\n",
    "\n",
    "# filter the openai file based on the path_ids\n",
    "df_openai = df_openai[df_openai[\"path_id\"].isin(mistral_path_ids)]"
   ]
  },
  {
   "cell_type": "code",
   "execution_count": 7,
   "metadata": {},
   "outputs": [],
   "source": [
    "# get only the rows in the mistral file that have the same path_id as the openai file\n",
    "# get the path_ids from the openai file\n",
    "openai_path_ids = df_openai[\"path_id\"]\n",
    "\n",
    "# filter the mistral file based on the path_ids\n",
    "df_mistral = df_mistral[df_mistral[\"path_id\"].isin(openai_path_ids)]\n"
   ]
  },
  {
   "cell_type": "code",
   "execution_count": 8,
   "metadata": {},
   "outputs": [
    {
     "name": "stdout",
     "output_type": "stream",
     "text": [
      "Number of rows in the filtered file: 222\n",
      "Number of rows in the filtered file: 222\n"
     ]
    }
   ],
   "source": [
    "# get the number of rows in the filtered openai file\n",
    "num_rows = df_openai.shape[0]\n",
    "print(f\"Number of rows in the filtered file: {num_rows}\")\n",
    "\n",
    "# get the number of rows in the filtered mistral file\n",
    "num_rows = df_mistral.shape[0]\n",
    "print(f\"Number of rows in the filtered file: {num_rows}\")"
   ]
  },
  {
   "cell_type": "code",
   "execution_count": 11,
   "metadata": {},
   "outputs": [
    {
     "name": "stdout",
     "output_type": "stream",
     "text": [
      "Number of rows in the OpenAI file with 'WRONG_ANSWER': 12\n",
      "Number of rows in the Mistral file with 'WRONG_ANSWER': 74\n",
      "Pourcentage of wrong answers in the OpenAI file: 5.405405405405405%\n",
      "Pourcentage of wrong answers in the Mistral file: 33.33333333333333%\n"
     ]
    }
   ],
   "source": [
    "# check if the path of each row contain the string \"WRONG_ANSWER\"\n",
    "df_openai_WA = df_openai[df_openai['path'].str.contains(\"WRONG_ANSWER\")]\n",
    "df_mistral_WA = df_mistral[df_mistral['path'].str.contains(\"WRONG_ANSWER\")]\n",
    "\n",
    "# get the number of rows in the df_openai_WA and df_mistral_WA DataFrames\n",
    "num_rows_openai_WA = df_openai_WA.shape[0]\n",
    "num_rows_mistral_WA = df_mistral_WA.shape[0]\n",
    "\n",
    "print(f\"Number of rows in the OpenAI file with 'WRONG_ANSWER': {num_rows_openai_WA}\")\n",
    "print(f\"Number of rows in the Mistral file with 'WRONG_ANSWER': {num_rows_mistral_WA}\")\n",
    "\n",
    "# get the pourcentage of wrong answers \n",
    "pourcentage_openai_WA = (num_rows_openai_WA/num_rows)*100\n",
    "pourcentage_mistral_WA = (num_rows_mistral_WA/num_rows)*100\n",
    "\n",
    "print(f\"Pourcentage of wrong answers in the OpenAI file: {pourcentage_openai_WA}%\")\n",
    "print(f\"Pourcentage of wrong answers in the Mistral file: {pourcentage_mistral_WA}%\")"
   ]
  },
  {
   "cell_type": "code",
   "execution_count": 12,
   "metadata": {},
   "outputs": [
    {
     "name": "stdout",
     "output_type": "stream",
     "text": [
      "Number of rows in the OpenAI file with 'LOOP_DETECTED': 88\n",
      "Number of rows in the Mistral file with 'LOOP_DETECTED': 33\n",
      "Pourcentage of loop detected in the OpenAI file: 39.63963963963964%\n",
      "Pourcentage of loop detected in the Mistral file: 14.864864864864865%\n"
     ]
    }
   ],
   "source": [
    "# check if the path of each row contain the string \"LOOP_DETECTED\"\n",
    "df_openai_LD = df_openai[df_openai['path'].str.contains(\"LOOP_DETECTED\")]\n",
    "df_mistral_LD = df_mistral[df_mistral['path'].str.contains(\"LOOP_DETECTED\")]\n",
    "\n",
    "# get the number of rows in the df_openai_LD and df_mistral_LD DataFrames\n",
    "num_rows_openai_LD = df_openai_LD.shape[0]\n",
    "num_rows_mistral_LD = df_mistral_LD.shape[0]\n",
    "\n",
    "print(f\"Number of rows in the OpenAI file with 'LOOP_DETECTED': {num_rows_openai_LD}\")\n",
    "print(f\"Number of rows in the Mistral file with 'LOOP_DETECTED': {num_rows_mistral_LD}\")\n",
    "\n",
    "# get the pourcentage of loop detected\n",
    "pourcentage_openai_LD = (num_rows_openai_LD/num_rows)*100\n",
    "pourcentage_mistral_LD = (num_rows_mistral_LD/num_rows)*100\n",
    "\n",
    "print(f\"Pourcentage of loop detected in the OpenAI file: {pourcentage_openai_LD}%\")\n",
    "print(f\"Pourcentage of loop detected in the Mistral file: {pourcentage_mistral_LD}%\")"
   ]
  }
 ],
 "metadata": {
  "kernelspec": {
   "display_name": "Python 3",
   "language": "python",
   "name": "python3"
  },
  "language_info": {
   "codemirror_mode": {
    "name": "ipython",
    "version": 3
   },
   "file_extension": ".py",
   "mimetype": "text/x-python",
   "name": "python",
   "nbconvert_exporter": "python",
   "pygments_lexer": "ipython3",
   "version": "3.13.0"
  }
 },
 "nbformat": 4,
 "nbformat_minor": 2
}
