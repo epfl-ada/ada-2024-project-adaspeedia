{
 "cells": [
  {
   "cell_type": "code",
   "id": "initial_id",
   "metadata": {
    "collapsed": true
   },
   "source": [
    "import pandas as pd\n",
    "DATA_FOLDER = 'data/wikispeedia_paths-and-graph/'\n",
    "articles = pd.read_csv(DATA_FOLDER + 'articles.tsv', sep='\\t', skiprows=12, names=['article'])\n",
    "categories = pd.read_csv(DATA_FOLDER + 'categories.tsv', sep='\\t', skiprows=12, names=['article', 'category'])\n",
    "links = pd.read_csv(DATA_FOLDER + 'links.tsv', sep='\\t', skiprows=11, names=['linkSource', 'linkTarget'])\n",
    "paths_finished = pd.read_csv(DATA_FOLDER + 'paths_finished.tsv', sep='\\t', skiprows=15, names=['hashedIpAddress', 'timestamp', 'durationInSec', 'path', 'rating'])\n",
    "paths_unfinished = pd.read_csv(DATA_FOLDER + 'paths_unfinished.tsv', sep='\\t', skiprows=16, names=['hashedIpAddress', 'timestamp', 'durationInSec', 'path', 'target', 'type'])"
   ],
   "outputs": [],
   "execution_count": null
  },
  {
   "metadata": {},
   "cell_type": "code",
   "source": [
    "# Decode the URL-encoded article titles\n",
    "import urllib.parse\n",
    "articles = articles.map(urllib.parse.unquote)\n",
    "categories = categories.map(urllib.parse.unquote)\n",
    "links = links.map(urllib.parse.unquote)\n",
    "paths_finished['path'] = paths_finished['path'].map(urllib.parse.unquote)\n",
    "paths_unfinished['path'] = paths_unfinished['path'].map(urllib.parse.unquote)"
   ],
   "id": "f4f6b54132c6fbc6",
   "outputs": [],
   "execution_count": null
  },
  {
   "metadata": {},
   "cell_type": "code",
   "source": "",
   "id": "610035d28d8337c5",
   "outputs": [],
   "execution_count": null
  }
 ],
 "metadata": {
  "kernelspec": {
   "display_name": "Python 3",
   "language": "python",
   "name": "python3"
  },
  "language_info": {
   "codemirror_mode": {
    "name": "ipython",
    "version": 2
   },
   "file_extension": ".py",
   "mimetype": "text/x-python",
   "name": "python",
   "nbconvert_exporter": "python",
   "pygments_lexer": "ipython2",
   "version": "2.7.6"
  }
 },
 "nbformat": 4,
 "nbformat_minor": 5
}
