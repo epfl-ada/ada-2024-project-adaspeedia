{
 "cells": [
  {
   "cell_type": "code",
   "execution_count": null,
   "metadata": {},
   "outputs": [],
   "source": [
    "from transformers import AutoTokenizer, AutoModel\n",
    "import torch\n",
    "from sklearn.metrics.pairwise import cosine_similarity\n",
    "\n",
    "model_name = \"bert-base-uncased\"  # TODO: Try different models\n",
    "tokenizer = AutoTokenizer.from_pretrained(model_name)\n",
    "model = AutoModel.from_pretrained(model_name)\n",
    "\n",
    "def get_embedding(text):\n",
    "    inputs = tokenizer(text, return_tensors=\"pt\")\n",
    "    with torch.no_grad(): # we are not training the model, so we don't need gradients\n",
    "        outputs = model(**inputs)\n",
    "    embedding = outputs.last_hidden_state.mean(dim=1).squeeze()\n",
    "    return embedding\n",
    "\n",
    "\n"
   ]
  },
  {
   "cell_type": "code",
   "execution_count": null,
   "metadata": {},
   "outputs": [
    {
     "name": "stdout",
     "output_type": "stream",
     "text": [
      "Cosine Similarity: 0.7934294939041138\n"
     ]
    }
   ],
   "source": [
    "def calculate_cosine_similarity(title1, title2):\n",
    "    embedding1 = get_embedding(title1)\n",
    "    embedding2 = get_embedding(title2)\n",
    "    embedding1 = embedding1.reshape(1, -1)\n",
    "    embedding2 = embedding2.reshape(1, -1)\n",
    "\n",
    "    similarity = cosine_similarity(embedding1, embedding2)[0][0]\n",
    "    return similarity\n",
    "\n",
    "# Example usage\n",
    "title1 = \"Understanding Machine Learning\"\n",
    "title2 = \"Introduction to Deep Learning\"\n",
    "similarity = calculate_cosine_similarity(title1, title2)\n",
    "print(f\"Cosine Similarity: {similarity}\")"
   ]
  },
  {
   "cell_type": "code",
   "execution_count": 3,
   "metadata": {},
   "outputs": [
    {
     "name": "stdout",
     "output_type": "stream",
     "text": [
      "Cosine Similarity: 0.6303218603134155\n"
     ]
    }
   ],
   "source": [
    "article1= \"14th_century\"\n",
    "article2= \"African_slave_trade\"\n",
    "similarity = calculate_cosine_similarity(article1, article2)\n",
    "print(f\"Cosine Similarity: {similarity}\")"
   ]
  },
  {
   "cell_type": "code",
   "execution_count": 7,
   "metadata": {},
   "outputs": [
    {
     "name": "stdout",
     "output_type": "stream",
     "text": [
      "Cosine Similarity: 0.9655939936637878\n"
     ]
    }
   ],
   "source": [
    "article1= \"14th_century\"\n",
    "article2= \"15th_century\"\n",
    "similarity = calculate_cosine_similarity(article1, article2)\n",
    "print(f\"Cosine Similarity: {similarity}\")"
   ]
  },
  {
   "cell_type": "code",
   "execution_count": 8,
   "metadata": {},
   "outputs": [
    {
     "name": "stdout",
     "output_type": "stream",
     "text": [
      "Cosine Similarity: 0.7063847780227661\n"
     ]
    }
   ],
   "source": [
    "article1_2= \"14th_century\"\n",
    "article2_2= \"Ottoman_Empire\"\n",
    "similarity = calculate_cosine_similarity(article1_2, article2_2)\n",
    "print(f\"Cosine Similarity: {similarity}\")"
   ]
  },
  {
   "cell_type": "code",
   "execution_count": null,
   "metadata": {},
   "outputs": [],
   "source": [
    "%pip install sentence_transformers"
   ]
  },
  {
   "cell_type": "code",
   "execution_count": 10,
   "metadata": {},
   "outputs": [
    {
     "name": "stdout",
     "output_type": "stream",
     "text": [
      "Collecting sentence_transformers\n",
      "  Downloading sentence_transformers-3.2.1-py3-none-any.whl.metadata (10 kB)\n",
      "Requirement already satisfied: transformers<5.0.0,>=4.41.0 in d:\\ghita\\anaconda\\envs\\modern_nlp\\lib\\site-packages (from sentence_transformers) (4.42.0.dev0)\n",
      "Requirement already satisfied: tqdm in d:\\ghita\\anaconda\\envs\\modern_nlp\\lib\\site-packages (from sentence_transformers) (4.66.2)\n",
      "Requirement already satisfied: torch>=1.11.0 in d:\\ghita\\anaconda\\envs\\modern_nlp\\lib\\site-packages (from sentence_transformers) (2.1.0)\n",
      "Requirement already satisfied: scikit-learn in d:\\ghita\\anaconda\\envs\\modern_nlp\\lib\\site-packages (from sentence_transformers) (1.4.1.post1)\n",
      "Requirement already satisfied: scipy in d:\\ghita\\anaconda\\envs\\modern_nlp\\lib\\site-packages (from sentence_transformers) (1.12.0)\n",
      "Requirement already satisfied: huggingface-hub>=0.20.0 in d:\\ghita\\anaconda\\envs\\modern_nlp\\lib\\site-packages (from sentence_transformers) (0.23.3)\n",
      "Requirement already satisfied: Pillow in d:\\ghita\\anaconda\\envs\\modern_nlp\\lib\\site-packages (from sentence_transformers) (10.2.0)\n",
      "Requirement already satisfied: filelock in d:\\ghita\\anaconda\\envs\\modern_nlp\\lib\\site-packages (from huggingface-hub>=0.20.0->sentence_transformers) (3.13.1)\n",
      "Requirement already satisfied: fsspec>=2023.5.0 in d:\\ghita\\anaconda\\envs\\modern_nlp\\lib\\site-packages (from huggingface-hub>=0.20.0->sentence_transformers) (2023.10.0)\n",
      "Requirement already satisfied: packaging>=20.9 in d:\\ghita\\anaconda\\envs\\modern_nlp\\lib\\site-packages (from huggingface-hub>=0.20.0->sentence_transformers) (23.2)\n",
      "Requirement already satisfied: pyyaml>=5.1 in d:\\ghita\\anaconda\\envs\\modern_nlp\\lib\\site-packages (from huggingface-hub>=0.20.0->sentence_transformers) (6.0.1)\n",
      "Requirement already satisfied: requests in d:\\ghita\\anaconda\\envs\\modern_nlp\\lib\\site-packages (from huggingface-hub>=0.20.0->sentence_transformers) (2.31.0)\n",
      "Requirement already satisfied: typing-extensions>=3.7.4.3 in d:\\ghita\\anaconda\\envs\\modern_nlp\\lib\\site-packages (from huggingface-hub>=0.20.0->sentence_transformers) (4.10.0)\n",
      "Requirement already satisfied: sympy in d:\\ghita\\anaconda\\envs\\modern_nlp\\lib\\site-packages (from torch>=1.11.0->sentence_transformers) (1.12)\n",
      "Requirement already satisfied: networkx in d:\\ghita\\anaconda\\envs\\modern_nlp\\lib\\site-packages (from torch>=1.11.0->sentence_transformers) (3.2.1)\n",
      "Requirement already satisfied: jinja2 in d:\\ghita\\anaconda\\envs\\modern_nlp\\lib\\site-packages (from torch>=1.11.0->sentence_transformers) (3.1.3)\n",
      "Requirement already satisfied: colorama in d:\\ghita\\anaconda\\envs\\modern_nlp\\lib\\site-packages (from tqdm->sentence_transformers) (0.4.6)\n",
      "Requirement already satisfied: numpy>=1.17 in d:\\ghita\\anaconda\\envs\\modern_nlp\\lib\\site-packages (from transformers<5.0.0,>=4.41.0->sentence_transformers) (1.25.2)\n",
      "Requirement already satisfied: regex!=2019.12.17 in d:\\ghita\\anaconda\\envs\\modern_nlp\\lib\\site-packages (from transformers<5.0.0,>=4.41.0->sentence_transformers) (2023.12.25)\n",
      "Requirement already satisfied: tokenizers<0.20,>=0.19 in d:\\ghita\\anaconda\\envs\\modern_nlp\\lib\\site-packages (from transformers<5.0.0,>=4.41.0->sentence_transformers) (0.19.1)\n",
      "Requirement already satisfied: safetensors>=0.4.1 in d:\\ghita\\anaconda\\envs\\modern_nlp\\lib\\site-packages (from transformers<5.0.0,>=4.41.0->sentence_transformers) (0.4.2)\n",
      "Requirement already satisfied: joblib>=1.2.0 in d:\\ghita\\anaconda\\envs\\modern_nlp\\lib\\site-packages (from scikit-learn->sentence_transformers) (1.3.2)\n",
      "Requirement already satisfied: threadpoolctl>=2.0.0 in d:\\ghita\\anaconda\\envs\\modern_nlp\\lib\\site-packages (from scikit-learn->sentence_transformers) (3.3.0)\n",
      "Requirement already satisfied: MarkupSafe>=2.0 in d:\\ghita\\anaconda\\envs\\modern_nlp\\lib\\site-packages (from jinja2->torch>=1.11.0->sentence_transformers) (2.1.5)\n",
      "Requirement already satisfied: charset-normalizer<4,>=2 in d:\\ghita\\anaconda\\envs\\modern_nlp\\lib\\site-packages (from requests->huggingface-hub>=0.20.0->sentence_transformers) (3.3.2)\n",
      "Requirement already satisfied: idna<4,>=2.5 in d:\\ghita\\anaconda\\envs\\modern_nlp\\lib\\site-packages (from requests->huggingface-hub>=0.20.0->sentence_transformers) (3.6)\n",
      "Requirement already satisfied: urllib3<3,>=1.21.1 in d:\\ghita\\anaconda\\envs\\modern_nlp\\lib\\site-packages (from requests->huggingface-hub>=0.20.0->sentence_transformers) (2.2.1)\n",
      "Requirement already satisfied: certifi>=2017.4.17 in d:\\ghita\\anaconda\\envs\\modern_nlp\\lib\\site-packages (from requests->huggingface-hub>=0.20.0->sentence_transformers) (2024.2.2)\n",
      "Requirement already satisfied: mpmath>=0.19 in d:\\ghita\\anaconda\\envs\\modern_nlp\\lib\\site-packages (from sympy->torch>=1.11.0->sentence_transformers) (1.3.0)\n",
      "Downloading sentence_transformers-3.2.1-py3-none-any.whl (255 kB)\n",
      "   ---------------------------------------- 0.0/255.8 kB ? eta -:--:--\n",
      "   - -------------------------------------- 10.2/255.8 kB ? eta -:--:--\n",
      "   ---- ---------------------------------- 30.7/255.8 kB 330.3 kB/s eta 0:00:01\n",
      "   --------- ----------------------------- 61.4/255.8 kB 409.6 kB/s eta 0:00:01\n",
      "   ------------------ ------------------- 122.9/255.8 kB 654.9 kB/s eta 0:00:01\n",
      "   ------------------------------ ------- 204.8/255.8 kB 888.4 kB/s eta 0:00:01\n",
      "   --------------------------------- ---- 225.3/255.8 kB 860.2 kB/s eta 0:00:01\n",
      "   -------------------------------------- 255.8/255.8 kB 826.7 kB/s eta 0:00:00\n",
      "Installing collected packages: sentence_transformers\n",
      "Successfully installed sentence_transformers-3.2.1\n",
      "Note: you may need to restart the kernel to use updated packages.\n"
     ]
    }
   ],
   "source": [
    "from sentence_transformers import SentenceTransformer, util\n",
    "\n",
    "model = SentenceTransformer('all-MiniLM-L6-v2')\n",
    "\n",
    "def calculate_sbert_similarity(title1, title2):\n",
    "    # Get embeddings\n",
    "    embedding1 = model.encode(title1, convert_to_tensor=True)\n",
    "    embedding2 = model.encode(title2, convert_to_tensor=True)\n",
    "    # Calculate cosine similarity using SBERT's util function\n",
    "    similarity = util.pytorch_cos_sim(embedding1, embedding2).item()\n",
    "    return similarity\n",
    "\n"
   ]
  },
  {
   "cell_type": "code",
   "execution_count": 11,
   "metadata": {},
   "outputs": [
    {
     "name": "stdout",
     "output_type": "stream",
     "text": [
      "Cosine Similarity with SBERT: 0.5268170833587646\n"
     ]
    }
   ],
   "source": [
    "# Example usage\n",
    "title1_1 = \"Understanding Machine Learning\"\n",
    "title2_1 = \"Introduction to Deep Learning\"\n",
    "similarity = calculate_sbert_similarity(title1, title2)\n",
    "print(f\"Cosine Similarity with SBERT: {similarity}\")"
   ]
  },
  {
   "cell_type": "code",
   "execution_count": 12,
   "metadata": {},
   "outputs": [
    {
     "name": "stdout",
     "output_type": "stream",
     "text": [
      "Cosine Similarity with SBERT: 0.9229943156242371\n"
     ]
    }
   ],
   "source": [
    "article1_1= \"14th_century\"\n",
    "article2_1= \"15th_century\"\n",
    "similarity = calculate_sbert_similarity(article1_1, article2_1)\n",
    "print(f\"Cosine Similarity with SBERT: {similarity}\")"
   ]
  },
  {
   "cell_type": "code",
   "execution_count": 13,
   "metadata": {},
   "outputs": [
    {
     "name": "stdout",
     "output_type": "stream",
     "text": [
      "Cosine Similarity with SBERT: 0.30906590819358826\n"
     ]
    }
   ],
   "source": [
    "article1_3= \"14th_century\"\n",
    "article2_3= \"African_slave_trade\"\n",
    "similarity = calculate_sbert_similarity(article1_3, article2_3)\n",
    "print(f\"Cosine Similarity with SBERT: {similarity}\")"
   ]
  }
 ],
 "metadata": {
  "kernelspec": {
   "display_name": "modern_nlp",
   "language": "python",
   "name": "python3"
  },
  "language_info": {
   "codemirror_mode": {
    "name": "ipython",
    "version": 3
   },
   "file_extension": ".py",
   "mimetype": "text/x-python",
   "name": "python",
   "nbconvert_exporter": "python",
   "pygments_lexer": "ipython3",
   "version": "3.10.13"
  }
 },
 "nbformat": 4,
 "nbformat_minor": 2
}
