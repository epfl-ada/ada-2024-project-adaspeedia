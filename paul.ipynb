{
 "cells": [
  {
   "cell_type": "code",
   "execution_count": null,
   "metadata": {
    "vscode": {
     "languageId": "plaintext"
    }
   },
   "outputs": [],
   "source": [
    "import numpy as np\n",
    "import pandas as pd\n",
    "import matplotlib.pyplot as plt\n",
    "from sklearn.manifold import MDS\n",
    "from mpl_toolkits.mplot3d import Axes3D\n",
    "\n",
    "# Les données\n",
    "data = [\n",
    "    (\"Football\", \"South_Africa\", 0.5511809, 8.725956916809082, 0.1734122782945633),\n",
    "    (\"Film\", \"The_Lorax\", 0.43897092, 9.629786491394045, 0.25735193490982056),\n",
    "    (\"Africa\", \"Bhutan\", 0.75217295, 6.57568359375, 0.204072967171669),\n",
    "]\n",
    "\n",
    "df = pd.DataFrame(data, columns=[\"Item1\", \"Item2\", \"Cosine_Similarity\", \"Euclidean_Distance\", \"SBERT_Cosine_Similarity\"])\n",
    "\n",
    "articles = list(set(df[\"Item1\"]).union(set(df[\"Item2\"])))\n",
    "n = len(articles)\n",
    "distance_matrix = np.zeros((n, n))\n",
    "\n",
    "for i, article1 in enumerate(articles):\n",
    "    for j, article2 in enumerate(articles):\n",
    "        if i != j:\n",
    "            match = df[(df[\"Item1\"] == article1) & (df[\"Item2\"] == article2) |\n",
    "                       (df[\"Item1\"] == article2) & (df[\"Item2\"] == article1)]\n",
    "            if not match.empty:\n",
    "                distance_matrix[i, j] = match[\"Euclidean_Distance\"].values[0]\n",
    "            else:\n",
    "                distance_matrix[i, j] = 10  # Distance arbitraire pour les paires manquantes\n",
    "\n",
    "mds = MDS(n_components=3, dissimilarity='precomputed', random_state=42)\n",
    "coords = mds.fit_transform(distance_matrix)\n",
    "\n",
    "fig = plt.figure(figsize=(10, 7))\n",
    "ax = fig.add_subplot(111, projection='3d')\n",
    "\n",
    "for i, article in enumerate(articles):\n",
    "    ax.scatter(coords[i, 0], coords[i, 1], coords[i, 2], label=article)\n",
    "    ax.text(coords[i, 0], coords[i, 1], coords[i, 2], article, fontsize=10)\n",
    "\n",
    "ax.set_title(\"Représentation des articles en 3D\")\n",
    "plt.legend()\n",
    "plt.show()\n"
   ]
  }
 ],
 "metadata": {
  "language_info": {
   "name": "python"
  }
 },
 "nbformat": 4,
 "nbformat_minor": 2
}
