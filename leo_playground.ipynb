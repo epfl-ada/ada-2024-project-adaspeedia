{
 "cells": [
  {
   "cell_type": "markdown",
   "id": "279a5c4e3b397aa9",
   "metadata": {},
   "source": [
    "## 1. Data loading and pre-processing"
   ]
  },
  {
   "cell_type": "code",
   "id": "e4d2a927188a1c9a",
   "metadata": {
    "ExecuteTime": {
     "end_time": "2024-12-15T13:41:34.601860Z",
     "start_time": "2024-12-15T13:41:34.500398Z"
    }
   },
   "source": [
    "import numpy as np\n",
    "import pandas as pd\n",
    "import seaborn as sns\n",
    "import matplotlib.pyplot as plt\n",
    "import statsmodels.formula.api as smf\n",
    "from src.utils.plot import plot_normalized_positions\n",
    "from src.utils.paths import paths_no_backtrack\n",
    "from src.utils.probs import posterior_probabilites, entropies_prior_posterior, information_gain\n",
    "from src.utils.distances import compute_distances\n",
    "from src.utils.load_data import load_data"
   ],
   "outputs": [],
   "execution_count": 1
  },
  {
   "cell_type": "code",
   "id": "initial_id",
   "metadata": {
    "collapsed": true,
    "ExecuteTime": {
     "end_time": "2024-12-15T13:41:35.129084Z",
     "start_time": "2024-12-15T13:41:34.617995Z"
    }
   },
   "source": "articles, categories, links, paths_finished_humans, paths_finished_llm, paths_unfinished, paths_unfinished_llm_df = load_data()",
   "outputs": [],
   "execution_count": 2
  },
  {
   "metadata": {},
   "cell_type": "markdown",
   "source": "",
   "id": "9391392b11c9c5bc"
  },
  {
   "metadata": {},
   "cell_type": "markdown",
   "source": [
    "### Handling Missing Values\n",
    "\n",
    "We found missing values for the rating of finished paths and decided not to impute them as replacing missing values with the median rating would not make sense. We will only use finished paths with a human rating and discard all other finished paths when we need to make analysis based on the rating.\n",
    "\n",
    "### Handling the data size\n",
    "\n",
    "Our pipeline can handle the datasize as we do not need to handle bigger datasets than the ones we have already treated through this pipeline."
   ],
   "id": "6d89a1a85e10e711"
  },
  {
   "cell_type": "code",
   "id": "6df1729f5e633a0c",
   "metadata": {
    "ExecuteTime": {
     "end_time": "2024-12-15T13:41:35.262737Z",
     "start_time": "2024-12-15T13:41:35.236766Z"
    }
   },
   "source": [
    "# Computing descriptive statistics human and LLM finished paths lengths\n",
    "\n",
    "paths_finished_len_humans = paths_finished_humans['path'].apply(len)\n",
    "paths_finished_len_llm = paths_finished_llm.apply(len)\n",
    "print(paths_finished_len_humans.describe())\n",
    "print(paths_finished_len_llm.describe())"
   ],
   "outputs": [
    {
     "name": "stdout",
     "output_type": "stream",
     "text": [
      "count    51307.000000\n",
      "mean         6.758668\n",
      "std          4.680461\n",
      "min          2.000000\n",
      "25%          5.000000\n",
      "50%          6.000000\n",
      "75%          8.000000\n",
      "max        435.000000\n",
      "Name: path, dtype: float64\n",
      "count    13910.000000\n",
      "mean         4.654062\n",
      "std          1.606599\n",
      "min          2.000000\n",
      "25%          4.000000\n",
      "50%          4.000000\n",
      "75%          6.000000\n",
      "max         17.000000\n",
      "Name: path, dtype: float64\n"
     ]
    }
   ],
   "execution_count": 3
  },
  {
   "metadata": {
    "ExecuteTime": {
     "end_time": "2024-12-15T13:41:35.416822Z",
     "start_time": "2024-12-15T13:41:35.406399Z"
    }
   },
   "cell_type": "code",
   "source": [
    "# Analyze the ratings given by humans\n",
    "print(paths_finished_humans['rating'].describe())"
   ],
   "id": "62207481373b2ba7",
   "outputs": [
    {
     "name": "stdout",
     "output_type": "stream",
     "text": [
      "count    28501.000000\n",
      "mean         2.269780\n",
      "std          1.110439\n",
      "min          1.000000\n",
      "25%          1.000000\n",
      "50%          2.000000\n",
      "75%          3.000000\n",
      "max          5.000000\n",
      "Name: rating, dtype: float64\n"
     ]
    }
   ],
   "execution_count": 4
  },
  {
   "cell_type": "markdown",
   "id": "3e602a52806671b6",
   "metadata": {},
   "source": [
    "### Exploring correlations\n",
    "\n",
    "Here we evaluate the correlation between the difficulty and the path length for human games. \n",
    "We observe that the rating is positively correlated with the path length.\n",
    "R2 shows that our model explains some of the variance of the data.\n",
    "p is close to 0 which shows that the rating is a good predictor for the path length."
   ]
  },
  {
   "cell_type": "code",
   "id": "4a474c6ff163a49b",
   "metadata": {
    "ExecuteTime": {
     "end_time": "2024-12-15T13:41:35.669034Z",
     "start_time": "2024-12-15T13:41:35.586315Z"
    }
   },
   "source": [
    "paths_finished_humans['path_length'] = paths_finished_len_humans\n",
    "mod = smf.ols(formula='path_length ~ rating', data=paths_finished_humans)\n",
    "res = mod.fit()\n",
    "res.summary()"
   ],
   "outputs": [
    {
     "data": {
      "text/plain": [
       "<class 'statsmodels.iolib.summary.Summary'>\n",
       "\"\"\"\n",
       "                            OLS Regression Results                            \n",
       "==============================================================================\n",
       "Dep. Variable:            path_length   R-squared:                       0.163\n",
       "Model:                            OLS   Adj. R-squared:                  0.163\n",
       "Method:                 Least Squares   F-statistic:                     5551.\n",
       "Date:                Sun, 15 Dec 2024   Prob (F-statistic):               0.00\n",
       "Time:                        14:41:35   Log-Likelihood:                -84559.\n",
       "No. Observations:               28501   AIC:                         1.691e+05\n",
       "Df Residuals:                   28499   BIC:                         1.691e+05\n",
       "Df Model:                           1                                         \n",
       "Covariance Type:            nonrobust                                         \n",
       "==============================================================================\n",
       "                 coef    std err          t      P>|t|      [0.025      0.975]\n",
       "------------------------------------------------------------------------------\n",
       "Intercept      2.4686      0.063     38.950      0.000       2.344       2.593\n",
       "rating         1.8687      0.025     74.502      0.000       1.819       1.918\n",
       "==============================================================================\n",
       "Omnibus:                    73824.614   Durbin-Watson:                   1.935\n",
       "Prob(Omnibus):                  0.000   Jarque-Bera (JB):       6510845304.372\n",
       "Skew:                          29.186   Prob(JB):                         0.00\n",
       "Kurtosis:                    2343.773   Cond. No.                         6.50\n",
       "==============================================================================\n",
       "\n",
       "Notes:\n",
       "[1] Standard Errors assume that the covariance matrix of the errors is correctly specified.\n",
       "\"\"\""
      ],
      "text/html": [
       "<table class=\"simpletable\">\n",
       "<caption>OLS Regression Results</caption>\n",
       "<tr>\n",
       "  <th>Dep. Variable:</th>       <td>path_length</td>   <th>  R-squared:         </th> <td>   0.163</td> \n",
       "</tr>\n",
       "<tr>\n",
       "  <th>Model:</th>                   <td>OLS</td>       <th>  Adj. R-squared:    </th> <td>   0.163</td> \n",
       "</tr>\n",
       "<tr>\n",
       "  <th>Method:</th>             <td>Least Squares</td>  <th>  F-statistic:       </th> <td>   5551.</td> \n",
       "</tr>\n",
       "<tr>\n",
       "  <th>Date:</th>             <td>Sun, 15 Dec 2024</td> <th>  Prob (F-statistic):</th>  <td>  0.00</td>  \n",
       "</tr>\n",
       "<tr>\n",
       "  <th>Time:</th>                 <td>14:41:35</td>     <th>  Log-Likelihood:    </th> <td> -84559.</td> \n",
       "</tr>\n",
       "<tr>\n",
       "  <th>No. Observations:</th>      <td> 28501</td>      <th>  AIC:               </th> <td>1.691e+05</td>\n",
       "</tr>\n",
       "<tr>\n",
       "  <th>Df Residuals:</th>          <td> 28499</td>      <th>  BIC:               </th> <td>1.691e+05</td>\n",
       "</tr>\n",
       "<tr>\n",
       "  <th>Df Model:</th>              <td>     1</td>      <th>                     </th>     <td> </td>    \n",
       "</tr>\n",
       "<tr>\n",
       "  <th>Covariance Type:</th>      <td>nonrobust</td>    <th>                     </th>     <td> </td>    \n",
       "</tr>\n",
       "</table>\n",
       "<table class=\"simpletable\">\n",
       "<tr>\n",
       "      <td></td>         <th>coef</th>     <th>std err</th>      <th>t</th>      <th>P>|t|</th>  <th>[0.025</th>    <th>0.975]</th>  \n",
       "</tr>\n",
       "<tr>\n",
       "  <th>Intercept</th> <td>    2.4686</td> <td>    0.063</td> <td>   38.950</td> <td> 0.000</td> <td>    2.344</td> <td>    2.593</td>\n",
       "</tr>\n",
       "<tr>\n",
       "  <th>rating</th>    <td>    1.8687</td> <td>    0.025</td> <td>   74.502</td> <td> 0.000</td> <td>    1.819</td> <td>    1.918</td>\n",
       "</tr>\n",
       "</table>\n",
       "<table class=\"simpletable\">\n",
       "<tr>\n",
       "  <th>Omnibus:</th>       <td>73824.614</td> <th>  Durbin-Watson:     </th>    <td>   1.935</td>   \n",
       "</tr>\n",
       "<tr>\n",
       "  <th>Prob(Omnibus):</th>  <td> 0.000</td>   <th>  Jarque-Bera (JB):  </th> <td>6510845304.372</td>\n",
       "</tr>\n",
       "<tr>\n",
       "  <th>Skew:</th>           <td>29.186</td>   <th>  Prob(JB):          </th>    <td>    0.00</td>   \n",
       "</tr>\n",
       "<tr>\n",
       "  <th>Kurtosis:</th>      <td>2343.773</td>  <th>  Cond. No.          </th>    <td>    6.50</td>   \n",
       "</tr>\n",
       "</table><br/><br/>Notes:<br/>[1] Standard Errors assume that the covariance matrix of the errors is correctly specified."
      ],
      "text/latex": "\\begin{center}\n\\begin{tabular}{lclc}\n\\toprule\n\\textbf{Dep. Variable:}    &   path\\_length   & \\textbf{  R-squared:         } &       0.163     \\\\\n\\textbf{Model:}            &       OLS        & \\textbf{  Adj. R-squared:    } &       0.163     \\\\\n\\textbf{Method:}           &  Least Squares   & \\textbf{  F-statistic:       } &       5551.     \\\\\n\\textbf{Date:}             & Sun, 15 Dec 2024 & \\textbf{  Prob (F-statistic):} &       0.00      \\\\\n\\textbf{Time:}             &     14:41:35     & \\textbf{  Log-Likelihood:    } &     -84559.     \\\\\n\\textbf{No. Observations:} &       28501      & \\textbf{  AIC:               } &   1.691e+05     \\\\\n\\textbf{Df Residuals:}     &       28499      & \\textbf{  BIC:               } &   1.691e+05     \\\\\n\\textbf{Df Model:}         &           1      & \\textbf{                     } &                 \\\\\n\\textbf{Covariance Type:}  &    nonrobust     & \\textbf{                     } &                 \\\\\n\\bottomrule\n\\end{tabular}\n\\begin{tabular}{lcccccc}\n                   & \\textbf{coef} & \\textbf{std err} & \\textbf{t} & \\textbf{P$> |$t$|$} & \\textbf{[0.025} & \\textbf{0.975]}  \\\\\n\\midrule\n\\textbf{Intercept} &       2.4686  &        0.063     &    38.950  &         0.000        &        2.344    &        2.593     \\\\\n\\textbf{rating}    &       1.8687  &        0.025     &    74.502  &         0.000        &        1.819    &        1.918     \\\\\n\\bottomrule\n\\end{tabular}\n\\begin{tabular}{lclc}\n\\textbf{Omnibus:}       & 73824.614 & \\textbf{  Durbin-Watson:     } &       1.935     \\\\\n\\textbf{Prob(Omnibus):} &    0.000  & \\textbf{  Jarque-Bera (JB):  } & 6510845304.372  \\\\\n\\textbf{Skew:}          &   29.186  & \\textbf{  Prob(JB):          } &        0.00     \\\\\n\\textbf{Kurtosis:}      &  2343.773 & \\textbf{  Cond. No.          } &        6.50     \\\\\n\\bottomrule\n\\end{tabular}\n%\\caption{OLS Regression Results}\n\\end{center}\n\nNotes: \\newline\n [1] Standard Errors assume that the covariance matrix of the errors is correctly specified."
     },
     "execution_count": 5,
     "metadata": {},
     "output_type": "execute_result"
    }
   ],
   "execution_count": 5
  },
  {
   "cell_type": "markdown",
   "id": "65fcf56f6b23c19b",
   "metadata": {},
   "source": [
    "## 2. Compute probabilities and entropies\n",
    "\n",
    "### 2.A. Prior click probability\n",
    "\n",
    "![Formula for the prior click probability](./images/probs_prior.png)"
   ]
  },
  {
   "cell_type": "markdown",
   "id": "beec893e2ab380ea",
   "metadata": {},
   "source": [
    "The prior click probability only depends on the number of outlinks of each article."
   ]
  },
  {
   "cell_type": "code",
   "id": "bb7f37f809c6bd81",
   "metadata": {
    "ExecuteTime": {
     "end_time": "2024-12-15T13:41:35.867821Z",
     "start_time": "2024-12-15T13:41:35.774515Z"
    }
   },
   "source": [
    "# Count the out-links of each article to get the probability of clicking on any of them\n",
    "out_degree = links.groupby('linkSource').size()\n",
    "probs_prior = 1 / out_degree\n",
    "# Create a Series indexed by 'linkSource' that gives a list of all the source’s out-links\n",
    "out_links = links.groupby('linkSource')['linkTarget'].agg(list)"
   ],
   "outputs": [],
   "execution_count": 6
  },
  {
   "cell_type": "markdown",
   "id": "a3613fd1a1d169e6",
   "metadata": {},
   "source": [
    "### 2.B. Posterior click probability\n",
    "\n",
    "![Formula for the posterior click probability](./images/probs_posterior.png)"
   ]
  },
  {
   "cell_type": "code",
   "id": "1e47d883519e1469",
   "metadata": {
    "ExecuteTime": {
     "end_time": "2024-12-15T13:42:04.954200Z",
     "start_time": "2024-12-15T13:41:35.873842Z"
    }
   },
   "source": [
    "paths_finished = paths_no_backtrack(paths_finished_humans['path'])\n",
    "probs_posterior_humans = posterior_probabilites(paths_finished, out_links, out_degree)\n",
    "probs_posterior_llm = posterior_probabilites(paths_finished_llm, out_links, out_degree)"
   ],
   "outputs": [],
   "execution_count": 7
  },
  {
   "cell_type": "markdown",
   "id": "f5d986b1468c4a90",
   "metadata": {},
   "source": [
    "### 2.C. Prior and posterior entropies\n",
    "\n",
    "Compute the prior and posterior entropy at each article along the path, except for the goal, because entropy is 0 once we have reached the goal."
   ]
  },
  {
   "cell_type": "code",
   "id": "3cad4dab0c8590d3",
   "metadata": {
    "ExecuteTime": {
     "end_time": "2024-12-15T13:42:30.813424Z",
     "start_time": "2024-12-15T13:42:13.863371Z"
    }
   },
   "source": [
    "entropies_prior_humans, entropies_posterior_humans = entropies_prior_posterior(paths_finished, probs_prior, probs_posterior_humans, out_degree)\n",
    "# TODO: entropies_prior_llm is redundant with entropies_prior_human because they’re the same\n",
    "entropies_prior_llm, entropies_posterior_llm = entropies_prior_posterior(paths_finished_llm, probs_prior, probs_posterior_llm, out_degree)"
   ],
   "outputs": [],
   "execution_count": 8
  },
  {
   "cell_type": "markdown",
   "id": "dd6e61d6d1b59351",
   "metadata": {},
   "source": [
    "## 3. Split the paths\n",
    "\n",
    "### 3.A. Compute “information gain”\n",
    "\n",
    "This represents how much information we gain by looking at the click distribution, as described in section 4 and figure 2 of the paper."
   ]
  },
  {
   "cell_type": "code",
   "id": "1180a59e146aa531",
   "metadata": {
    "ExecuteTime": {
     "end_time": "2024-12-15T13:42:52.485959Z",
     "start_time": "2024-12-15T13:42:51.288714Z"
    }
   },
   "source": [
    "# Compute and plot the information gain for human and for LLM paths\n",
    "info_gain_humans = information_gain(entropies_prior_humans, entropies_posterior_humans)\n",
    "info_gain_llm = information_gain(entropies_prior_llm, entropies_posterior_llm)\n",
    "plot_normalized_positions(info_gain_humans, 'information gain for human paths')\n",
    "plot_normalized_positions(info_gain_llm, 'information gain for LLM paths')"
   ],
   "outputs": [
    {
     "data": {
      "text/plain": [
       "<Figure size 800x300 with 1 Axes>"
      ],
      "image/png": "[encoded data removed]"
     },
     "metadata": {},
     "output_type": "display_data"
    }
   ],
   "execution_count": 10
  },
  {
   "cell_type": "markdown",
   "id": "26ea43686e9bd4cd",
   "metadata": {},
   "source": [
    "This is similar to what the paper gets:\n",
    "\n",
    "![information gain graph from the paper](./images/fig_2_paper.png)"
   ]
  },
  {
   "cell_type": "markdown",
   "id": "c942b33c50b8771e",
   "metadata": {},
   "source": [
    "### 3.B. Get the splitting point and split the paths"
   ]
  },
  {
   "cell_type": "code",
   "id": "ba4bd099cce4dd6f",
   "metadata": {
    "ExecuteTime": {
     "end_time": "2024-12-15T13:43:02.344060Z",
     "start_time": "2024-12-15T13:43:02.062844Z"
    }
   },
   "source": [
    "# Add all the “homing in” parts of the paths in the array, by splitting\n",
    "# the paths at the point of minimum information\n",
    "\n",
    "# Get the index of the point of lowest information gain for each path\n",
    "argmin_info_gain_humans = info_gain_humans.apply(np.argmin)\n",
    "argmin_info_gain_llm = info_gain_llm.apply(np.argmin)\n",
    "# Split the path at this point and keep only the second part, corresponding to the “homing in” phase\n",
    "paths_homing_in_humans = pd.Series([path[argmin_info_gain_humans[i]:] for i, path in paths_finished.items()])\n",
    "paths_homing_in_llm = pd.Series([path[argmin_info_gain_llm[i]:] for i, path in paths_finished_llm.items()])"
   ],
   "outputs": [],
   "execution_count": 11
  },
  {
   "cell_type": "markdown",
   "id": "d2ef5f3be3bd04c6",
   "metadata": {},
   "source": [
    "## 4. Compute embedding distances\n",
    "\n",
    "We now need to get a list of all the article titles whose embedding we need to compute, as well as the list of pairs of articles between which we need to compute the distance."
   ]
  },
  {
   "cell_type": "code",
   "id": "72c27426a11a450e",
   "metadata": {
    "ExecuteTime": {
     "end_time": "2024-12-15T13:43:12.142248Z",
     "start_time": "2024-12-15T13:43:12.038437Z"
    }
   },
   "source": [
    "# Compute the set of all articles encountered in the paths_homing_in_humans\n",
    "# Every article encountered along a goal has a defined distance with the goal\n",
    "all_distance_pairs = set()\n",
    "all_articles = set()\n",
    "for path in paths_homing_in_humans:\n",
    "    goal  = path[-1]\n",
    "    for article in path:\n",
    "        all_articles.add(article)\n",
    "        all_distance_pairs.add((article, goal))"
   ],
   "outputs": [],
   "execution_count": 12
  },
  {
   "cell_type": "markdown",
   "id": "f3d6ea0652cbcba8",
   "metadata": {},
   "source": [
    "We use the sentence-transformers library to load the pre-trained BERT model and compute embeddings for each of our article titles. Then, we compute distances between these embeddings models, using both cosine similarity and Euclidean distance, which we return in a dataframe `similarities`."
   ]
  },
  {
   "cell_type": "code",
   "id": "2abef8c191933114",
   "metadata": {
    "ExecuteTime": {
     "end_time": "2024-12-15T13:43:25.872729Z",
     "start_time": "2024-12-15T13:43:22.533714Z"
    }
   },
   "source": [
    "from src.scripts.generate_embeddings_distances import get_embeddings_distances\n",
    "similarities = get_embeddings_distances(all_articles, all_distance_pairs, 'data/article_similarities.csv')"
   ],
   "outputs": [
    {
     "name": "stderr",
     "output_type": "stream",
     "text": [
      "/home/t/.conda/envs/ada_proj/lib/python3.12/site-packages/tqdm/auto.py:21: TqdmWarning: IProgress not found. Please update jupyter and ipywidgets. See https://ipywidgets.readthedocs.io/en/stable/user_install.html\n",
      "  from .autonotebook import tqdm as notebook_tqdm\n"
     ]
    }
   ],
   "execution_count": 13
  },
  {
   "cell_type": "markdown",
   "id": "6e7f0818873c29c2",
   "metadata": {},
   "source": [
    "## 5. Compute distances"
   ]
  },
  {
   "cell_type": "code",
   "id": "99c97eb2060d4fd9",
   "metadata": {
    "ExecuteTime": {
     "end_time": "2024-12-15T13:43:35.019300Z",
     "start_time": "2024-12-15T13:43:34.854630Z"
    }
   },
   "source": [
    "distances_humans = compute_distances(links, probs_posterior_humans, paths_homing_in_humans, 'data/distances_humans.pkl')\n",
    "distances_llm = compute_distances(links, probs_posterior_llm, paths_finished_llm, 'data/distances_llm.pkl')"
   ],
   "outputs": [],
   "execution_count": 14
  },
  {
   "cell_type": "markdown",
   "id": "d1e2b045",
   "metadata": {},
   "source": [
    "## 6. Get wikispeedia distances from LLM games"
   ]
  },
  {
   "cell_type": "markdown",
   "id": "c63923d6",
   "metadata": {},
   "source": [
    "First, we need to verify that the Wikispeedia distance can be computed in the same way for LLMs. We check if the LLMs adopt the same strategy of getting out-homing which is at the basis of our method."
   ]
  },
  {
   "cell_type": "markdown",
   "id": "b9344965",
   "metadata": {},
   "source": [
    "In the following code, we extract the Wikispeedia semantic distances from the corresponding finished paths."
   ]
  },
  {
   "metadata": {
    "ExecuteTime": {
     "end_time": "2024-12-15T13:44:23.353614Z",
     "start_time": "2024-12-15T13:44:23.157437Z"
    }
   },
   "cell_type": "code",
   "source": [
    "series_distances_humans = pd.Series(distances_humans)\n",
    "series_distances_llm = pd.Series(distances_llm)\n",
    "intersection_index = series_distances_humans.index.intersection(series_distances_llm.index)\n",
    "distances_both = pd.DataFrame({ 'humans': series_distances_humans, 'llm': series_distances_llm}, index=intersection_index)"
   ],
   "id": "d4e6ec272f82ce6c",
   "outputs": [],
   "execution_count": 17
  },
  {
   "metadata": {
    "ExecuteTime": {
     "end_time": "2024-12-15T13:44:37.173119Z",
     "start_time": "2024-12-15T13:44:37.132275Z"
    }
   },
   "cell_type": "code",
   "source": "distance_differences = pd.Series(series_distances_humans - series_distances_llm, index=intersection_index)",
   "id": "ccbab1546c3e56e7",
   "outputs": [],
   "execution_count": 18
  },
  {
   "metadata": {
    "ExecuteTime": {
     "end_time": "2024-12-15T13:45:06.703205Z",
     "start_time": "2024-12-15T13:45:04.072940Z"
    }
   },
   "cell_type": "code",
   "source": [
    "plt.figure().set_figwidth(18)\n",
    "plt.xlim(-2, 2)\n",
    "sns.histplot(distance_differences)"
   ],
   "id": "5e9dbc2479c3a373",
   "outputs": [
    {
     "data": {
      "text/plain": [
       "<Axes: ylabel='Count'>"
      ]
     },
     "execution_count": 20,
     "metadata": {},
     "output_type": "execute_result"
    },
    {
     "data": {
      "text/plain": [
       "<Figure size 1800x480 with 1 Axes>"
      ],
      "image/png": "[encoded data removed]"
     },
     "metadata": {},
     "output_type": "display_data"
    }
   ],
   "execution_count": 20
  },
  {
   "metadata": {
    "ExecuteTime": {
     "end_time": "2024-12-15T13:45:19.817821Z",
     "start_time": "2024-12-15T13:45:19.811640Z"
    }
   },
   "cell_type": "code",
   "source": "biggest_difference = distances_both[lambda row: abs(row['llm'] - row['humans']) > 1]",
   "id": "f439544930b418d0",
   "outputs": [],
   "execution_count": 21
  },
  {
   "metadata": {
    "ExecuteTime": {
     "end_time": "2024-12-15T13:45:33.692915Z",
     "start_time": "2024-12-15T13:45:33.685391Z"
    }
   },
   "cell_type": "code",
   "source": "distances_both['humans'].describe()",
   "id": "990a6f38bebe8c8a",
   "outputs": [
    {
     "data": {
      "text/plain": [
       "count    15866.000000\n",
       "mean         0.384870\n",
       "std          0.472799\n",
       "min          0.000844\n",
       "25%          0.176986\n",
       "50%          0.316225\n",
       "75%          0.498339\n",
       "max         37.811398\n",
       "Name: humans, dtype: float64"
      ]
     },
     "execution_count": 22,
     "metadata": {},
     "output_type": "execute_result"
    }
   ],
   "execution_count": 22
  },
  {
   "metadata": {
    "ExecuteTime": {
     "end_time": "2024-12-15T13:45:46.729101Z",
     "start_time": "2024-12-15T13:45:46.721687Z"
    }
   },
   "cell_type": "code",
   "source": "distances_both['llm'].describe()",
   "id": "1b716ed41c93d986",
   "outputs": [
    {
     "data": {
      "text/plain": [
       "count    15866.000000\n",
       "mean         0.403347\n",
       "std          0.268385\n",
       "min          0.006247\n",
       "25%          0.211733\n",
       "50%          0.350472\n",
       "75%          0.529106\n",
       "max          3.494916\n",
       "Name: llm, dtype: float64"
      ]
     },
     "execution_count": 23,
     "metadata": {},
     "output_type": "execute_result"
    }
   ],
   "execution_count": 23
  }
 ],
 "metadata": {
  "kernelspec": {
   "display_name": "ada",
   "language": "python",
   "name": "python3"
  },
  "language_info": {
   "codemirror_mode": {
    "name": "ipython",
    "version": 3
   },
   "file_extension": ".py",
   "mimetype": "text/x-python",
   "name": "python",
   "nbconvert_exporter": "python",
   "pygments_lexer": "ipython3",
   "version": "3.11.9"
  }
 },
 "nbformat": 4,
 "nbformat_minor": 5
}
