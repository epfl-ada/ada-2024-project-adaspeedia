{
 "cells": [
  {
   "cell_type": "code",
   "execution_count": 1,
   "metadata": {
    "ExecuteTime": {
     "end_time": "2024-11-14T19:09:30.285011Z",
     "start_time": "2024-11-14T19:08:57.362620Z"
    }
   },
   "outputs": [
    {
     "name": "stderr",
     "output_type": "stream",
     "text": [
      "/home/t/.conda/envs/ada/lib/python3.12/site-packages/tqdm/auto.py:21: TqdmWarning: IProgress not found. Please update jupyter and ipywidgets. See https://ipywidgets.readthedocs.io/en/stable/user_install.html\n",
      "  from .autonotebook import tqdm as notebook_tqdm\n"
     ]
    }
   ],
   "source": [
    "# we use the sentence-transformers library to load the pre-trained BERT model and compute embeddings\n",
    "from transformers import AutoTokenizer, AutoModel\n",
    "from sklearn.metrics.pairwise import cosine_similarity\n",
    "\n",
    "model_name = \"bert-base-uncased\"  \n",
    "tokenizer = AutoTokenizer.from_pretrained(model_name)\n",
    "model = AutoModel.from_pretrained(model_name)\n",
    "\n",
    "def get_embedding(text):\n",
    "    inputs = tokenizer(text, return_tensors=\"pt\")\n",
    "    with torch.no_grad(): # we are not training the model, so we don't need gradients\n",
    "        outputs = model(**inputs)\n",
    "    embedding = outputs.last_hidden_state.mean(dim=1).squeeze()\n",
    "    return embedding"
   ]
  },
  {
   "cell_type": "code",
   "execution_count": 2,
   "metadata": {
    "ExecuteTime": {
     "end_time": "2024-11-14T19:09:30.299216Z",
     "start_time": "2024-11-14T19:09:30.295230Z"
    }
   },
   "outputs": [],
   "source": [
    "# calculate the cosine similarity between two embeddings\n",
    "def calculate_cosine_similarity(emb_title1, emb_title2):\n",
    "    emb_title1 = emb_title1.reshape(1, -1)\n",
    "    emb_title2 = emb_title2.reshape(1, -1)\n",
    "\n",
    "    similarity = cosine_similarity(emb_title1, emb_title2)[0][0]\n",
    "    return similarity\n"
   ]
  },
  {
   "cell_type": "code",
   "execution_count": 17,
   "metadata": {
    "ExecuteTime": {
     "end_time": "2024-11-14T19:09:30.597171Z",
     "start_time": "2024-11-14T19:09:30.400757Z"
    }
   },
   "outputs": [],
   "source": [
    "import ast\n",
    "with open('all_distance_pairs.txt', 'r') as f:\n",
    "    all_distance_pairs = ast.literal_eval(f.read())\n",
    "with open('all_articles.txt', 'r') as f:\n",
    "    all_articles = ast.literal_eval(f.read())\n"
   ]
  },
  {
   "cell_type": "code",
   "execution_count": null,
   "metadata": {},
   "outputs": [],
   "source": [
    "# get the embeddings of all articles and store them in a dictionary\n",
    "article_embeddings = {}\n",
    "for article in all_articles:\n",
    "    article_embeddings[article] = get_embedding(article)\n",
    "\n",
    "# calculate the cosine similarity between all pairs of articles\n",
    "similarities = {}\n",
    "for pair in all_distance_pairs:\n",
    "    title1 = pair[0]\n",
    "    title2 = pair[1]\n",
    "    embedding1 = article_embeddings[title1]\n",
    "    embedding2 = article_embeddings[title2]\n",
    "    similarity =  calculate_cosine_similarity(embedding1, embedding2)\n",
    "    similarities[(title1, title2)] = similarity"
   ]
  },
  {
   "cell_type": "code",
   "execution_count": 15,
   "metadata": {},
   "outputs": [],
   "source": [
    "# get the format of the dataframes\n",
    "import pandas as pd\n",
    "df = pd.DataFrame(similarities.items(), columns=['pair', 'cosine_similarity'])"
   ]
  },
  {
   "cell_type": "code",
   "execution_count": null,
   "metadata": {},
   "outputs": [
    {
     "name": "stderr",
     "output_type": "stream",
     "text": [
      "d:\\Ghita\\anaconda\\envs\\modern_nlp\\lib\\site-packages\\sentence_transformers\\cross_encoder\\CrossEncoder.py:13: TqdmWarning: IProgress not found. Please update jupyter and ipywidgets. See https://ipywidgets.readthedocs.io/en/stable/user_install.html\n",
      "  from tqdm.autonotebook import tqdm, trange\n"
     ]
    },
    {
     "name": "stdout",
     "output_type": "stream",
     "text": [
      "Cosine Similarity with SBERT: 0.5268170833587646\n"
     ]
    }
   ],
   "source": [
    "from sentence_transformers import SentenceTransformer, util\n",
    "\n",
    "# Load a pre-trained SBERT model\n",
    "model = SentenceTransformer('all-MiniLM-L6-v2')\n",
    "\n",
    "def calculate_sbert_similarity(title1, title2):\n",
    "    # Get embeddings\n",
    "    embedding1 = model.encode(title1, convert_to_tensor=True)\n",
    "    embedding2 = model.encode(title2, convert_to_tensor=True)\n",
    "    # Calculate cosine similarity using SBERT's util function\n",
    "    similarity = util.pytorch_cos_sim(embedding1, embedding2).item()\n",
    "    return similarity\n",
    "\n",
    "\n"
   ]
  },
  {
   "cell_type": "code",
   "execution_count": null,
   "metadata": {},
   "outputs": [],
   "source": [
    "# Calculate SBERT similarities for all pairs\n",
    "sbert_similarities = {}\n",
    "for pair in all_distance_pairs:\n",
    "    title1 = pair[0]\n",
    "    title2 = pair[1]\n",
    "    similarity = calculate_sbert_similarity(title1, title2)\n",
    "    sbert_similarities[(title1, title2)] = similarity\n",
    "\n",
    "# Create a dataframe from the similarities\n",
    "df_sbert = pd.DataFrame(sbert_similarities.items(), columns=['pair', 'cosine_similarity'])"
   ]
  },
  {
   "cell_type": "code",
   "execution_count": null,
   "metadata": {},
   "outputs": [],
   "source": [
    "# add a new colonne \"sbert_cosine_similarity\" to the csv file article_similarity.csv\n",
    "df['sbert_cosine_similarity'] = df_sbert['cosine_similarity']\n",
    "# save the csv file article_similarity.csv\n",
    "df.to_csv('article_similarity.csv', index=False)\n"
   ]
  },
  {
   "cell_type": "code",
   "execution_count": null,
   "metadata": {},
   "outputs": [
    {
     "name": "stdout",
     "output_type": "stream",
     "text": [
      "Euclidean Distance: 6.148644924163818\n"
     ]
    }
   ],
   "source": [
    "from transformers import AutoTokenizer, AutoModel\n",
    "import torch\n",
    "from scipy.spatial.distance import euclidean\n",
    "\n",
    "# Load pre-trained model and tokenizer\n",
    "model_name = \"bert-base-uncased\"  # You can use any suitable model here\n",
    "tokenizer = AutoTokenizer.from_pretrained(model_name)\n",
    "model = AutoModel.from_pretrained(model_name)\n",
    "\n",
    "def get_embedding(text):\n",
    "    # Tokenize the text and get embeddings\n",
    "    inputs = tokenizer(text, return_tensors=\"pt\")\n",
    "    with torch.no_grad():\n",
    "        outputs = model(**inputs)\n",
    "    # Pool the output to get a single vector representation of the text\n",
    "    embedding = outputs.last_hidden_state.mean(dim=1).squeeze()\n",
    "    return embedding\n",
    "\n",
    "def calculate_euclidean_distance(title1, title2):\n",
    "    # Get embeddings\n",
    "    embedding1 = get_embedding(title1)\n",
    "    embedding2 = get_embedding(title2)\n",
    "    # Convert to numpy arrays for distance calculation\n",
    "    embedding1_np = embedding1.numpy()\n",
    "    embedding2_np = embedding2.numpy()\n",
    "    # Calculate Euclidean distance\n",
    "    distance = euclidean(embedding1_np, embedding2_np)\n",
    "    return distance\n",
    "\n",
    "\n"
   ]
  },
  {
   "cell_type": "code",
   "execution_count": 25,
   "metadata": {},
   "outputs": [],
   "source": [
    "# add a column to the dataframe similarities that contains the euclidean distance between the embeddings of the articles in each pair\n",
    "df['euclidean_distance'] = df['pair'].apply(lambda x: calculate_euclidean_distance(x[0], x[1]))"
   ]
  },
  {
   "cell_type": "code",
   "execution_count": 26,
   "metadata": {},
   "outputs": [],
   "source": [
    "# save the dataframe to a csv file\n",
    "df.to_csv('article_similarity.csv', index=False)"
   ]
  }
 ],
 "metadata": {
  "kernelspec": {
   "display_name": "modern_nlp",
   "language": "python",
   "name": "python3"
  },
  "language_info": {
   "codemirror_mode": {
    "name": "ipython",
    "version": 3
   },
   "file_extension": ".py",
   "mimetype": "text/x-python",
   "name": "python",
   "nbconvert_exporter": "python",
   "pygments_lexer": "ipython3",
   "version": "3.10.13"
  }
 },
 "nbformat": 4,
 "nbformat_minor": 2
}
